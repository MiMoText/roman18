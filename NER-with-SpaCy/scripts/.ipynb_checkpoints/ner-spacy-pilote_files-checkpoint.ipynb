{
 "cells": [
  {
   "cell_type": "markdown",
   "metadata": {},
   "source": [
    "# Named Entity Recognition on PILOT files using classic SpaCy pipeline\n",
    "\n",
    "MiMoText pilot files are: \n",
    "\n",
    "* Senac_Emigre\n",
    "* Maistre_Voyage\n",
    "* Sade_Aline\n",
    "* Sade_Justine\n",
    "* Bernadin_Paul\n",
    "* Laclos_Liaisons\n",
    "* Retif_Paysanne\n",
    "* Retif_Paysan\n",
    "* Mercier_An\n",
    "* Retif_AntiJustine\n",
    "* Rousseau_Julie\n",
    "* Voltaire_Candide\n",
    "\n",
    "For full list of metadata and MiMoText IDs see https://docs.google.com/spreadsheets/d/10HrWlxkAuOiMxgyDa4K8cA7syvbFJGAW2kgbonyyDvQ/edit#gid=0 \n",
    "\n",
    "The pretrained statistical models for French is multi-task CNN trained on UD French Sequoia and WikiNER. Assigns context-specific token vectors, POS tags, dependency parse and named entities."
   ]
  },
  {
   "cell_type": "markdown",
   "metadata": {},
   "source": [
    "When you call `nlp` on a text, spaCy first tokenizes the text to produce a `Doc` object. The `Doc` is then processed in several different steps – this is also referred to as the processing pipeline. The pipeline used by the default models consists of a tagger, a parser and an entity recognizer. Each pipeline component returns the processed `Doc`, which is then passed on to the next component."
   ]
  },
  {
   "cell_type": "code",
   "execution_count": 4,
   "metadata": {},
   "outputs": [],
   "source": [
    "import spacy\n",
    "import re\n",
    "import glob\n",
    "import nltk\n",
    "import sklearn\n",
    "from spacy import pipeline\n",
    "from spacy import morphology\n",
    "from spacy import displacy \n",
    "from collections import Counter\n",
    "import fr_core_news_lg\n",
    "import requests \n",
    "sklearn.feature_extraction.text.CountVectorizer\n",
    "\n",
    "# loading of french language model\n",
    "nlp = fr_core_news_lg.load()\n"
   ]
  },
  {
   "cell_type": "code",
   "execution_count": 5,
   "metadata": {},
   "outputs": [
    {
     "data": {
      "text/plain": [
       "[('Venise', 27),\n",
       " ('Cacambo', 24),\n",
       " ('Bulgares', 21),\n",
       " ('Buenos', 13),\n",
       " ('Constantinople', 12),\n",
       " ('Paris', 12),\n",
       " ('Portugal', 9),\n",
       " ('Europe', 9),\n",
       " ('Westphalie', 8),\n",
       " ('Surinam', 8)]"
      ]
     },
     "execution_count": 5,
     "metadata": {},
     "output_type": "execute_result"
    }
   ],
   "source": [
    "# printing out a sorted list of the ten most common LOC entities within the text \n",
    "voltaire_candide = requests.get('https://raw.githubusercontent.com/MiMoText/roman-dixhuit/master/plain/files/Voltaire_Candide.txt')\n",
    "voltaire_candide = nlp(voltaire_candide.text)\n",
    "listOfPER_voltaire_candide = [ent for ent in voltaire_candide.ents if ent.label_ == 'LOC']\n",
    "Counter([ent.text.strip() for ent in listOfPER_voltaire_candide]).most_common(10)"
   ]
  },
  {
   "cell_type": "code",
   "execution_count": 6,
   "metadata": {},
   "outputs": [
    {
     "data": {
      "text/plain": [
       "[('Français', 53),\n",
       " ('Paris', 37),\n",
       " ('France', 34),\n",
       " ('Francfort', 33),\n",
       " ('la France', 26),\n",
       " ('Mayence', 24),\n",
       " ('de France', 17),\n",
       " ('Chevalier', 13),\n",
       " ('Française', 13),\n",
       " ('Lœwenstein', 13)]"
      ]
     },
     "execution_count": 6,
     "metadata": {},
     "output_type": "execute_result"
    }
   ],
   "source": [
    "# printing out a sorted list of the ten most common LOC entities within the text \n",
    "senac_emigre = requests.get('https://raw.githubusercontent.com/MiMoText/roman-dixhuit/master/plain/files/Senac_Emigre.txt')\n",
    "senac_emigre = nlp(senac_emigre.text)\n",
    "Counter([ent.text.strip() for ent in [ent for ent in senac_emigre.ents if ent.label_ == 'LOC']]).most_common(10)"
   ]
  },
  {
   "cell_type": "code",
   "execution_count": 8,
   "metadata": {},
   "outputs": [
    {
     "data": {
      "text/plain": [
       "[('»--Il', 3),\n",
       " ('Alpes', 3),\n",
       " ('Turin', 3),\n",
       " ('Rome', 2),\n",
       " ('Champs', 2),\n",
       " (\"d'Italie\", 2),\n",
       " ('Paris', 2),\n",
       " ('Paris;--aucun', 1),\n",
       " ('présente!', 1),\n",
       " (\"fleurs;--c'\", 1)]"
      ]
     },
     "execution_count": 8,
     "metadata": {},
     "output_type": "execute_result"
    }
   ],
   "source": [
    "maistre_voyage = requests.get('https://raw.githubusercontent.com/MiMoText/roman-dixhuit/master/plain/files/Maistre_Voyage.txt')\n",
    "maistre_voyage = nlp(maistre_voyage.text)\n",
    "listOfLOC_maistre_voyage = [ent for ent in maistre_voyage.ents if ent.label_ == 'LOC']\n",
    "Counter([ent.text.strip() for ent in listOfLOC_maistre_voyage]).most_common(10)"
   ]
  },
  {
   "cell_type": "code",
   "execution_count": 9,
   "metadata": {},
   "outputs": [
    {
     "data": {
      "text/plain": [
       "[('Paris', 105),\n",
       " ('Valmont', 36),\n",
       " ('Opéra', 14),\n",
       " ('petite Volanges', 12),\n",
       " ('Belleroche', 11),\n",
       " ('Gercourt', 8),\n",
       " ('Suisse', 6),\n",
       " ('Volanges', 5),\n",
       " ('Providence', 5),\n",
       " ('Est', 5)]"
      ]
     },
     "execution_count": 9,
     "metadata": {},
     "output_type": "execute_result"
    }
   ],
   "source": [
    "laclos_liaisons = requests.get('https://raw.githubusercontent.com/MiMoText/roman-dixhuit/master/plain/files/Laclos_Liaisons.txt')\n",
    "laclos_liaisons  = nlp(laclos_liaisons.text)\n",
    "listOfLOC_laclos_liaisons = [ent for ent in laclos_liaisons.ents if ent.label_ == 'LOC']\n",
    "Counter([ent.text.strip() for ent in listOfLOC_laclos_liaisons]).most_common(10)"
   ]
  },
  {
   "cell_type": "code",
   "execution_count": 10,
   "metadata": {},
   "outputs": [],
   "source": [
    "#Increasing the max_length for longer novels \n",
    "nlp.max_length = 1700000"
   ]
  },
  {
   "cell_type": "code",
   "execution_count": 11,
   "metadata": {},
   "outputs": [
    {
     "data": {
      "text/plain": [
       "[('Wolmar', 71),\n",
       " ('Paris', 65),\n",
       " ('Clarens', 30),\n",
       " ('Saint-Preux', 26),\n",
       " ('Orbe', 20),\n",
       " ('Londres', 20),\n",
       " ('Rome', 18),\n",
       " ('Angleterre', 15),\n",
       " ('Opéra', 15),\n",
       " ('Geneve', 14)]"
      ]
     },
     "execution_count": 11,
     "metadata": {},
     "output_type": "execute_result"
    }
   ],
   "source": [
    "rousseau_julie = requests.get('https://raw.githubusercontent.com/MiMoText/roman-dixhuit/master/plain/files/Rousseau_Julie.txt')\n",
    "rousseau_julie = nlp(rousseau_julie.text)\n",
    "listOfLOC_rousseau_julie = [ent for ent in rousseau_julie.ents if ent.label_ == 'LOC']\n",
    "Counter([ent.text.strip() for ent in listOfLOC_rousseau_julie]).most_common(10)"
   ]
  },
  {
   "cell_type": "code",
   "execution_count": 13,
   "metadata": {},
   "outputs": [
    {
     "data": {
      "text/plain": [
       "[('Paris', 71),\n",
       " ('Lagouache', 38),\n",
       " ('Italien', 21),\n",
       " ('Zéphire', 14),\n",
       " ('S', 12),\n",
       " ('Opéra', 12),\n",
       " ('Trémoussée', 12),\n",
       " ('M', 10),\n",
       " ('Est', 8),\n",
       " ('P.-S.--Je', 8)]"
      ]
     },
     "execution_count": 13,
     "metadata": {},
     "output_type": "execute_result"
    }
   ],
   "source": [
    "retif_paysanne = requests.get('https://raw.githubusercontent.com/MiMoText/roman-dixhuit/master/plain/files/Retif_Paysanne.txt')\n",
    "retif_paysanne= nlp(retif_paysanne.text)\n",
    "listOfLOC_retif_paysanne = [ent for ent in retif_paysanne.ents if ent.label_ == 'LOC']\n",
    "Counter([ent.text.strip() for ent in listOfLOC_retif_paysanne]).most_common(10)"
   ]
  },
  {
   "cell_type": "code",
   "execution_count": null,
   "metadata": {},
   "outputs": [],
   "source": [
    "#-->> Check: Why are there unusual LOC entitites ini retif_paysanne? Displacy renders the whole text with named entities (grey = PERS , orange = LOC, blue = ORG)\n",
    "displacy.render(retif_paysanne,style = 'ent', jupyter=True)"
   ]
  },
  {
   "cell_type": "code",
   "execution_count": 14,
   "metadata": {},
   "outputs": [
    {
     "data": {
      "text/plain": [
       "[('Conquette', 68),\n",
       " ('Minonne', 46),\n",
       " ('Traitdamour', 43),\n",
       " ('Rosemauve', 32),\n",
       " ('Guaé', 29),\n",
       " ('Tendrelys', 21),\n",
       " ('Connette', 20),\n",
       " ('Brideconin', 15),\n",
       " ('Montencon', 9),\n",
       " ('Brisemotte', 9)]"
      ]
     },
     "execution_count": 14,
     "metadata": {},
     "output_type": "execute_result"
    }
   ],
   "source": [
    "retif_antijustine = requests.get('https://raw.githubusercontent.com/MiMoText/roman18/master/plain/files/Retif_AntiJustine.txt')\n",
    "retif_antijustine= nlp(retif_antijustine.text)\n",
    "listOfLOC_retif_antijustine = [ent for ent in retif_antijustine.ents if ent.label_ == 'LOC']\n",
    "Counter([ent.text.strip() for ent in listOfLOC_retif_antijustine]).most_common(10)"
   ]
  },
  {
   "cell_type": "code",
   "execution_count": 15,
   "metadata": {},
   "outputs": [
    {
     "data": {
      "text/plain": [
       "[('Cardoville', 34),\n",
       " ('Sévérino', 31),\n",
       " ('Paris', 26),\n",
       " ('Lyon', 26),\n",
       " ('Grenoble', 14),\n",
       " ('France', 10),\n",
       " ('Corville', 9),\n",
       " ('Gernande', 8),\n",
       " ('Dauphiné', 7),\n",
       " ('Saint-Florent', 6)]"
      ]
     },
     "execution_count": 15,
     "metadata": {},
     "output_type": "execute_result"
    }
   ],
   "source": [
    "sade_justine = requests.get('https://raw.githubusercontent.com/MiMoText/roman-dixhuit/master/plain/files/Sade_Justine.txt')\n",
    "sade_justine = nlp(sade_justine.text)\n",
    "listOfLOC_sade_justine = [ent for ent in sade_justine.ents if ent.label_ == 'LOC']\n",
    "Counter([ent.text.strip() for ent in listOfLOC_sade_justine]).most_common(10)\n"
   ]
  },
  {
   "cell_type": "code",
   "execution_count": 16,
   "metadata": {},
   "outputs": [
    {
     "data": {
      "text/plain": [
       "[('Valcour', 144),\n",
       " ('Paris', 96),\n",
       " ('Déterville', 64),\n",
       " ('Blamont', 58),\n",
       " ('État', 52),\n",
       " ('Sainville', 51),\n",
       " ('Europe', 51),\n",
       " ('Portugais', 49),\n",
       " ('Vertfeuille', 36),\n",
       " ('Madrid', 34)]"
      ]
     },
     "execution_count": 16,
     "metadata": {},
     "output_type": "execute_result"
    }
   ],
   "source": [
    "sade_aline = requests.get('https://raw.githubusercontent.com/MiMoText/roman-dixhuit/master/plain/files/Sade_Aline.txt')\n",
    "sade_aline = nlp(sade_aline.text)\n",
    "listOfLOC_sade_aline = [ent for ent in sade_aline.ents if ent.label_ == 'LOC']\n",
    "Counter([ent.text.strip() for ent in listOfLOC_sade_aline]).most_common(10)"
   ]
  },
  {
   "cell_type": "code",
   "execution_count": 17,
   "metadata": {},
   "outputs": [
    {
     "data": {
      "text/plain": [
       "[('Virginie', 218),\n",
       " ('Domingue', 34),\n",
       " (\"l'Europe\", 21),\n",
       " ('France', 21),\n",
       " ('Europe', 14),\n",
       " ('Indes', 13),\n",
       " ('Port-Louis', 13),\n",
       " ('Pamplemousses', 12),\n",
       " ('Paris', 10),\n",
       " ('Providence', 9)]"
      ]
     },
     "execution_count": 17,
     "metadata": {},
     "output_type": "execute_result"
    }
   ],
   "source": [
    "bernadin_paul = requests.get('https://raw.githubusercontent.com/MiMoText/roman18/master/plain/files/Bernardin_Paul.txt')\n",
    "bernadin_paul = nlp(bernadin_paul.text)\n",
    "listOfLOC_bernadin_paul = [ent for ent in bernadin_paul .ents if ent.label_ == 'LOC']\n",
    "Counter([ent.text.strip() for ent in listOfLOC_bernadin_paul ]).most_common(10)"
   ]
  },
  {
   "cell_type": "code",
   "execution_count": 18,
   "metadata": {},
   "outputs": [
    {
     "data": {
      "text/plain": [
       "[('État', 26),\n",
       " ('Paris', 14),\n",
       " ('Anglois', 7),\n",
       " ('Angleterre', 6),\n",
       " (\"l'Europe\", 6),\n",
       " ('États', 6),\n",
       " ('la Chine', 5),\n",
       " ('Rome', 5),\n",
       " ('Romains', 4),\n",
       " ('Être Suprême', 4)]"
      ]
     },
     "execution_count": 18,
     "metadata": {},
     "output_type": "execute_result"
    }
   ],
   "source": [
    "mercier_an = requests.get('https://raw.githubusercontent.com/MiMoText/roman18/master/plain/files/Mercier_An.txt')\n",
    "mercier_an  = nlp(mercier_an.text)\n",
    "listOfLOC_mercier_an  = [ent for ent in mercier_an.ents if ent.label_ == 'LOC']\n",
    "Counter([ent.text.strip() for ent in listOfLOC_mercier_an]).most_common(10)\n"
   ]
  },
  {
   "cell_type": "markdown",
   "metadata": {},
   "source": [
    "# PER entities\n",
    "\n",
    "Printing out a sorted list of the ten most common PER entities within the french novels (pilote corpus MiMoText)"
   ]
  },
  {
   "cell_type": "code",
   "execution_count": 26,
   "metadata": {},
   "outputs": [
    {
     "data": {
      "text/plain": [
       "[('Candide', 245),\n",
       " ('Cunégonde', 110),\n",
       " ('Martin', 108),\n",
       " ('Pangloss', 86),\n",
       " ('Cacambo', 53),\n",
       " ('Paquette', 16),\n",
       " ('Eldorado', 13),\n",
       " ('Pococurante', 11),\n",
       " ('Giroflée', 8),\n",
       " ('M.', 7)]"
      ]
     },
     "execution_count": 26,
     "metadata": {},
     "output_type": "execute_result"
    }
   ],
   "source": [
    "Counter([ent.text.strip() for ent in [ent for ent in voltaire_candide.ents if ent.label_ == 'PER']]).most_common(10)"
   ]
  },
  {
   "cell_type": "code",
   "execution_count": 27,
   "metadata": {},
   "outputs": [
    {
     "data": {
      "text/plain": [
       "[('Marquis', 331),\n",
       " ('Adieu', 125),\n",
       " ('Commandeur', 85),\n",
       " ('Marquis de St. Alban', 67),\n",
       " ('Madame', 61),\n",
       " ('Mademoiselle', 60),\n",
       " ('Melle Émilie de Wergentheim', 52),\n",
       " ('Roi', 52),\n",
       " ('Bertrand', 50),\n",
       " ('Président', 48)]"
      ]
     },
     "execution_count": 27,
     "metadata": {},
     "output_type": "execute_result"
    }
   ],
   "source": [
    "Counter([ent.text.strip() for ent in [ent for ent in senac_emigre.ents if ent.label_ == 'PER']]).most_common(10)"
   ]
  },
  {
   "cell_type": "code",
   "execution_count": 28,
   "metadata": {},
   "outputs": [
    {
     "data": {
      "text/plain": [
       "[('Joannetti', 19),\n",
       " ('Rosine', 11),\n",
       " ('Aspasie', 8),\n",
       " ('Raphaël', 7),\n",
       " ('Hippocrate', 6),\n",
       " ('Platon', 5),\n",
       " ('madame de Hautcastel', 5),\n",
       " ('Périclès', 4),\n",
       " ('Est-il', 2),\n",
       " ('Mille', 2)]"
      ]
     },
     "execution_count": 28,
     "metadata": {},
     "output_type": "execute_result"
    }
   ],
   "source": [
    "Counter([ent.text.strip() for ent in [ent for ent in maistre_voyage.ents if ent.label_ == 'PER']]).most_common(10)"
   ]
  },
  {
   "cell_type": "code",
   "execution_count": 29,
   "metadata": {},
   "outputs": [
    {
     "data": {
      "text/plain": [
       "[('Adieu', 128),\n",
       " ('Monsieur', 87),\n",
       " ('Madame', 86),\n",
       " ('Vicomte de Valmont', 86),\n",
       " ('M. de Valmont', 64),\n",
       " ('Marquise de Merteuil', 63),\n",
       " ('Prévan', 58),\n",
       " ('Cécile', 52),\n",
       " ('Vicomte', 50),\n",
       " ('Cécile Volanges', 40)]"
      ]
     },
     "execution_count": 29,
     "metadata": {},
     "output_type": "execute_result"
    }
   ],
   "source": [
    "Counter([ent.text.strip() for ent in [ent for ent in laclos_liaisons.ents if ent.label_ == 'PER']]).most_common(10)"
   ]
  },
  {
   "cell_type": "code",
   "execution_count": 30,
   "metadata": {},
   "outputs": [
    {
     "data": {
      "text/plain": [
       "[('Julie', 291),\n",
       " ('Ciel', 93),\n",
       " ('Milord Edouard', 75),\n",
       " ('M. de Wolmar', 70),\n",
       " ('Claire', 67),\n",
       " ('Milord', 61),\n",
       " ('hui’hui', 52),\n",
       " ('Adieu', 37),\n",
       " ('Fanchon', 37),\n",
       " ('Madame', 29)]"
      ]
     },
     "execution_count": 30,
     "metadata": {},
     "output_type": "execute_result"
    }
   ],
   "source": [
    "Counter([ent.text.strip() for ent in [ent for ent in rousseau_julie.ents if ent.label_ == 'PER']]).most_common(10)"
   ]
  },
  {
   "cell_type": "code",
   "execution_count": 21,
   "metadata": {},
   "outputs": [
    {
     "data": {
      "text/plain": [
       "[('Edmond', 592),\n",
       " ('Mme Parangon', 221),\n",
       " ('Laure', 133),\n",
       " ('Gaudet', 94),\n",
       " ('Fanchon', 76),\n",
       " ('M. Gaudet', 74),\n",
       " ('Mme Canon', 67),\n",
       " ('Fanchette', 58),\n",
       " ('Mlle Fanchette', 56),\n",
       " ('Edmée', 53)]"
      ]
     },
     "execution_count": 21,
     "metadata": {},
     "output_type": "execute_result"
    }
   ],
   "source": [
    "Counter([ent.text.strip() for ent in [ent for ent in retif_paysanne.ents if ent.label_ == 'PER']]).most_common(10)"
   ]
  },
  {
   "cell_type": "code",
   "execution_count": 36,
   "metadata": {},
   "outputs": [
    {
     "data": {
      "text/plain": [
       "[('Vitnègre', 93),\n",
       " ('Traitdamour', 83),\n",
       " ('Conquette', 53),\n",
       " ('Timori', 41),\n",
       " ('Guaé', 41),\n",
       " ('Fysitère', 38),\n",
       " ('Rosemauve', 36),\n",
       " ('Connette', 30),\n",
       " ('Conquette Ingénue', 23),\n",
       " ('Non', 14)]"
      ]
     },
     "execution_count": 36,
     "metadata": {},
     "output_type": "execute_result"
    }
   ],
   "source": [
    "Counter([ent.text.strip() for ent in [ent for ent in retif_antijustine.ents if ent.label_ == 'PER']]).most_common(10)"
   ]
  },
  {
   "cell_type": "code",
   "execution_count": 33,
   "metadata": {},
   "outputs": [
    {
     "data": {
      "text/plain": [
       "[('Thérèse', 229),\n",
       " ('Rodin', 78),\n",
       " ('Roland', 74),\n",
       " ('Dubois', 68),\n",
       " ('Saint-Florent', 47),\n",
       " ('Clément', 38),\n",
       " ('Rosalie', 33),\n",
       " ('Omphale', 31),\n",
       " ('Mme de Lorsange', 26),\n",
       " ('Sévérino', 26)]"
      ]
     },
     "execution_count": 33,
     "metadata": {},
     "output_type": "execute_result"
    }
   ],
   "source": [
    "Counter([ent.text.strip() for ent in [ent for ent in sade_justine.ents if ent.label_ == 'PER']]).most_common(10)"
   ]
  },
  {
   "cell_type": "code",
   "execution_count": 59,
   "metadata": {},
   "outputs": [
    {
     "data": {
      "text/plain": [
       "[('Aline', 299),\n",
       " ('Léonore', 165),\n",
       " ('Sophie', 164),\n",
       " ('Clémentine', 156),\n",
       " ('madame de Blamont', 144),\n",
       " ('Valcour', 104),\n",
       " ('Zamé', 93),\n",
       " ('Sainville', 72),\n",
       " ('Madame de Blamont', 71),\n",
       " ('Isabeau', 45)]"
      ]
     },
     "execution_count": 59,
     "metadata": {},
     "output_type": "execute_result"
    }
   ],
   "source": [
    "Counter([ent.text.strip() for ent in [ent for ent in sade_aline.ents if ent.label_ == 'PER']]).most_common(10)"
   ]
  },
  {
   "cell_type": "code",
   "execution_count": 30,
   "metadata": {},
   "outputs": [
    {
     "data": {
      "text/plain": [
       "[('Paul', 177),\n",
       " ('madame de la Tour', 56),\n",
       " ('Marguerite', 37),\n",
       " ('Domingue', 36),\n",
       " ('Madame de la Tour', 25),\n",
       " ('Marie', 21),\n",
       " ('M. de la Bourdonnais', 15),\n",
       " ('Fidèle', 8),\n",
       " ('Homère', 7),\n",
       " ('M. Roger', 6)]"
      ]
     },
     "execution_count": 30,
     "metadata": {},
     "output_type": "execute_result"
    }
   ],
   "source": [
    "Counter([ent.text.strip() for ent in [ent for ent in bernadin_paul.ents if ent.label_ == 'PER']]).most_common(10)"
   ]
  },
  {
   "cell_type": "code",
   "execution_count": 39,
   "metadata": {},
   "outputs": [
    {
     "data": {
      "text/plain": [
       "[('François', 13),\n",
       " ('Monsieur', 8),\n",
       " ('Roi', 8),\n",
       " ('Messieurs', 8),\n",
       " ('Oui', 8),\n",
       " ('Voltaire', 7),\n",
       " ('Louis XV', 6),\n",
       " ('Corneille', 6),\n",
       " ('Henri IV', 5),\n",
       " ('Louis XIV', 5)]"
      ]
     },
     "execution_count": 39,
     "metadata": {},
     "output_type": "execute_result"
    }
   ],
   "source": [
    "Counter([ent.text.strip() for ent in [ent for ent in mercier_an.ents if ent.label_ == 'PER']]).most_common(10)"
   ]
  },
  {
   "cell_type": "code",
   "execution_count": 35,
   "metadata": {},
   "outputs": [],
   "source": [
    "# Computing Similarity with word vectors (SpaCy)"
   ]
  },
  {
   "cell_type": "code",
   "execution_count": 60,
   "metadata": {},
   "outputs": [
    {
     "name": "stdout",
     "output_type": "stream",
     "text": [
      "voltaire_candide et laclos_liaisons  0.9450388522973917\n",
      "voltaire_candide et senac_emigre 0.9870599846699816\n",
      "voltaire_candide et sade aline 0.9669153988417551\n",
      "voltaire_candide et maistre_voyage 0.9868767207249752\n"
     ]
    }
   ],
   "source": [
    "print('voltaire_candide et laclos_liaisons ',voltaire_candide.similarity(laclos_liaisons))\n",
    "print('voltaire_candide et senac_emigre',voltaire_candide.similarity(senac_emigre))\n",
    "print('voltaire_candide et sade aline',voltaire_candide.similarity(sade_aline))\n",
    "print('voltaire_candide et maistre_voyage',voltaire_candide.similarity(maistre_voyage))"
   ]
  },
  {
   "cell_type": "code",
   "execution_count": null,
   "metadata": {},
   "outputs": [],
   "source": []
  }
 ],
 "metadata": {
  "kernelspec": {
   "display_name": "Python 3",
   "language": "python",
   "name": "python3"
  },
  "language_info": {
   "codemirror_mode": {
    "name": "ipython",
    "version": 3
   },
   "file_extension": ".py",
   "mimetype": "text/x-python",
   "name": "python",
   "nbconvert_exporter": "python",
   "pygments_lexer": "ipython3",
   "version": "3.8.3"
  }
 },
 "nbformat": 4,
 "nbformat_minor": 4
}
