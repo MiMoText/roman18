{
 "cells": [
  {
   "cell_type": "markdown",
   "id": "46f1479b",
   "metadata": {},
   "source": [
    "# Corpus and BGRF Composition\n",
    "\n",
    "We describe and analyse the status quo of the corpus with respect to criteria like author gender, year of first publication, narrative form etc. Then we compare it to the \"baseline\" of the BGRF.\n",
    "\n",
    "**TOC**\n",
    "* [Prerequisites](#Prerequisites)\n",
    "* [Corpus Metadata](#Corpus-Metadata)\n",
    "  - [Author Gender](#Author-Gender)\n",
    "  - [Text Length](#Text-Length)\n",
    "  - [Year of first publication](#Year-of-first-publication)\n",
    "* [BGRF Metadata](#BGRF-Metadata)\n",
    "  - [Configuration](#Configuration)\n",
    "  - [Data Loading](#Data-Loading)\n",
    "  "
   ]
  },
  {
   "cell_type": "markdown",
   "id": "7c376e52",
   "metadata": {},
   "source": [
    "## Prerequisites"
   ]
  },
  {
   "cell_type": "code",
   "execution_count": 1,
   "id": "224778ef",
   "metadata": {},
   "outputs": [],
   "source": [
    "import pandas as pd\n",
    "import numpy as np\n",
    "import seaborn as sns\n",
    "\n",
    "# Install with e.g. `pip install sparqlwrapper`\n",
    "from SPARQLWrapper import SPARQLWrapper, JSON\n",
    "\n",
    "# Make plots appear directly in the notebook.\n",
    "%matplotlib inline"
   ]
  },
  {
   "cell_type": "markdown",
   "id": "8e7612e9",
   "metadata": {},
   "source": [
    "The later parts also require access to a Wikibase instance, which is only accessible in/over the university network."
   ]
  },
  {
   "cell_type": "markdown",
   "id": "67570b0a",
   "metadata": {},
   "source": [
    "## Corpus Metadata"
   ]
  },
  {
   "cell_type": "code",
   "execution_count": 2,
   "id": "74128ae2",
   "metadata": {
    "scrolled": true
   },
   "outputs": [
    {
     "name": "stdout",
     "output_type": "stream",
     "text": [
      "Available column names: ['filename' 'au-name' 'title' 'au-gender' 'firsted-yr' 'printSource-yr'\n",
      " 'form' 'spelling' 'data-capture' 'token count' 'size' 'bgrf']\n"
     ]
    }
   ],
   "source": [
    "# Adjust the URL to the .tsv file as needed.\n",
    "DATA_URL = 'https://raw.githubusercontent.com/MiMoText/roman18/master/XML-TEI/xml-tei_metadata.tsv'\n",
    "corpus = pd.read_csv(DATA_URL, sep='\\t')\n",
    "print('Available column names:', corpus.columns.values)"
   ]
  },
  {
   "cell_type": "markdown",
   "id": "ee1ca46d",
   "metadata": {},
   "source": [
    "### Author Gender\n",
    "\n",
    "Data is in the column 'au-gender'. Possible values are 'F', 'M' and 'U'."
   ]
  },
  {
   "cell_type": "code",
   "execution_count": 3,
   "id": "909c54c8",
   "metadata": {},
   "outputs": [
    {
     "name": "stdout",
     "output_type": "stream",
     "text": [
      "Set of all occuring values: {'F', 'U', 'M'}\n",
      "% of female authors: \t0.184\n",
      "% of male authors: \t0.789\n",
      "% of unknown/other: \t0.026\n"
     ]
    },
    {
     "data": {
      "text/plain": [
       "<AxesSubplot:>"
      ]
     },
     "execution_count": 3,
     "metadata": {},
     "output_type": "execute_result"
    },
    {
     "data": {
      "image/png": "[encoded data removed]",
      "text/plain": [
       "<Figure size 432x288 with 1 Axes>"
      ]
     },
     "metadata": {
      "needs_background": "light"
     },
     "output_type": "display_data"
    }
   ],
   "source": [
    "gender = corpus['au-gender']\n",
    "print('Set of all occuring values:', set(gender.values))\n",
    "ratio_female = (gender == 'F').sum() / gender.count()\n",
    "ratio_male = (gender == 'M').sum() / gender.count()\n",
    "ratio_other = 1 - ratio_female - ratio_male\n",
    "print(\n",
    "    f'% of female authors: \\t{ratio_female:.3f}\\n'\n",
    "    f'% of male authors: \\t{ratio_male:.3f}\\n'\n",
    "    f'% of unknown/other: \\t{ratio_other:.3f}'\n",
    ")\n",
    "gender.hist()"
   ]
  },
  {
   "cell_type": "markdown",
   "id": "d5093508",
   "metadata": {},
   "source": [
    "### Text Length\n",
    "Data is in the column 'size', possible values are 'short', 'medium', 'long'."
   ]
  },
  {
   "cell_type": "code",
   "execution_count": 4,
   "id": "da2f3957",
   "metadata": {},
   "outputs": [
    {
     "name": "stdout",
     "output_type": "stream",
     "text": [
      "% of short texts: \t0.491\n",
      "% of medium texts: \t0.289\n",
      "% of long texts: \t0.219\n"
     ]
    },
    {
     "data": {
      "text/plain": [
       "<AxesSubplot:>"
      ]
     },
     "execution_count": 4,
     "metadata": {},
     "output_type": "execute_result"
    },
    {
     "data": {
      "image/png": "[encoded data removed]",
      "text/plain": [
       "<Figure size 432x288 with 1 Axes>"
      ]
     },
     "metadata": {
      "needs_background": "light"
     },
     "output_type": "display_data"
    }
   ],
   "source": [
    "size = corpus['size']\n",
    "ratio_size_short = (size == 'short').sum() / size.count()\n",
    "ratio_size_med = (size == 'medium').sum() / size.count()\n",
    "ratio_size_long = (size == 'long').sum() / size.count()\n",
    "print(\n",
    "    f'% of short texts: \\t{ratio_size_short:.3f}\\n'\n",
    "    f'% of medium texts: \\t{ratio_size_med:.3f}\\n'\n",
    "    f'% of long texts: \\t{ratio_size_long:.3f}'\n",
    ")\n",
    "size.hist()"
   ]
  },
  {
   "cell_type": "markdown",
   "id": "a496e1cc",
   "metadata": {},
   "source": [
    "### Year of first publication\n",
    "Data is in the column 'firsted-yr'. However, possible values can be single years `(yyyy)`, year spans `(yyyy-yyyy)`, the floating point number value `NaN`, or even a string like `'unknown'`. Therefore, we need to clean up a bit before we can use it."
   ]
  },
  {
   "cell_type": "code",
   "execution_count": 5,
   "id": "c7e85380",
   "metadata": {
    "raw_mimetype": "text/x-python"
   },
   "outputs": [
    {
     "data": {
      "text/plain": [
       "<AxesSubplot:>"
      ]
     },
     "execution_count": 5,
     "metadata": {},
     "output_type": "execute_result"
    },
    {
     "data": {
      "image/png": "[encoded data removed]",
      "text/plain": [
       "<Figure size 432x288 with 1 Axes>"
      ]
     },
     "metadata": {
      "needs_background": "light"
     },
     "output_type": "display_data"
    }
   ],
   "source": [
    "pubyear = (corpus['firsted-yr']\n",
    "    .astype('|S')\n",
    "    # In case of year ranges, simply use the first year.\n",
    "    .replace('(\\d{4})-\\d{4}', '\\1', regex=True))\n",
    "pubyear = pd.to_numeric(pubyear, errors='coerce').astype('Int64')\n",
    "time_range = pubyear.max() - pubyear.min()\n",
    "pubyear.hist(bins=time_range)"
   ]
  },
  {
   "cell_type": "markdown",
   "id": "92e1b964",
   "metadata": {},
   "source": [
    "### Narrative form\n",
    "Data is in the column 'form'. Possible values include `'mixed'`, `'autodiegetic'`, `'heterodiegetic'`, `'homodiegetic'`, `'epistolary'`, `'dialogue novel'` and also `NaN`."
   ]
  },
  {
   "cell_type": "code",
   "execution_count": 6,
   "id": "e9b4efdd",
   "metadata": {},
   "outputs": [
    {
     "name": "stdout",
     "output_type": "stream",
     "text": [
      "Set of all values:  {'mixed', nan, 'heterodiegetic', 'epistolary', 'autodiegetic', 'dialogue novel', 'homodiegetic'}\n",
      "% of mixed: \t0.036\n",
      "% of autodiegetic: \t0.250\n",
      "% of heterodiegetic: \t0.348\n",
      "% of homodiegetic: \t0.036\n",
      "% of epistolary: \t0.268\n",
      "% of dialogue novel: \t0.062\n"
     ]
    },
    {
     "data": {
      "image/png": "[encoded data removed]",
      "text/plain": [
       "<Figure size 432x288 with 1 Axes>"
      ]
     },
     "metadata": {
      "needs_background": "light"
     },
     "output_type": "display_data"
    }
   ],
   "source": [
    "form = corpus['form'].astype('category')\n",
    "print('Set of all values: ', set(form.values))\n",
    "print('\\n'.join([\n",
    "    f'% of {kind}: \\t{((form==kind).sum()/form.count()):.3f}'\n",
    "    for kind in [\n",
    "        'mixed', 'autodiegetic', 'heterodiegetic', 'homodiegetic',\n",
    "        'epistolary', 'dialogue novel'\n",
    "    ]\n",
    "]))\n",
    "h = form.hist(bins=11)\n",
    "h.xaxis.set_tick_params(labelrotation=30)"
   ]
  },
  {
   "cell_type": "markdown",
   "id": "4612c55d",
   "metadata": {},
   "source": [
    "## BGRF Metadata\n",
    "Data is pulled from Wikibase. For the moment, our instance on port 44100 is used as it contains the most tripels. This may change in the future, which then will not only affect the URL but also the IDs of the items and predicates. Adjust these accordingly in the [Configuration Section](#Configuration)."
   ]
  },
  {
   "cell_type": "markdown",
   "id": "082667ad",
   "metadata": {},
   "source": [
    "### Configuration"
   ]
  },
  {
   "cell_type": "code",
   "execution_count": 7,
   "id": "9f3db722",
   "metadata": {},
   "outputs": [],
   "source": [
    "WB_URL = 'http://zora.uni-trier.de:44100'\n",
    "ITEM_IDS = {\n",
    "    'publication_date': 'P7',\n",
    "    'publication_date_str': 'P43',  # hard to use, since not normalized\n",
    "    'sex_or_gender': 'P29',    # currently no data on :44100\n",
    "    'narrative_form': 'P55',   # currently no data on :44100\n",
    "    'narrative_form_str': 'P47',\n",
    "    'page_count': 'P35',       # currently no data on :44100\n",
    "    'page_count_str': 'P45',\n",
    "}"
   ]
  },
  {
   "cell_type": "markdown",
   "id": "a8a9b641",
   "metadata": {},
   "source": [
    "### Data Loading"
   ]
  },
  {
   "cell_type": "markdown",
   "id": "21d85e9d",
   "metadata": {},
   "source": [
    "We use the SPARQL endpoint to query the bibliography metadata. Each metadatum gets its own query to enhance recall (otherwise some items which have some, but not all, properties set, would get filtered out. This is particularly relevant because there is no data on gender in Wikibase, yet)."
   ]
  },
  {
   "cell_type": "code",
   "execution_count": 8,
   "id": "cb87bd42",
   "metadata": {},
   "outputs": [],
   "source": [
    "bgrf = pd.DataFrame()\n",
    "wb_endpoint = f'{WB_URL}/proxy/wdqs/bigdata/namespace/wdq/sparql'\n",
    "\n",
    "def get_data(endpoint, query):\n",
    "    '''Given an endpoint URL and a SPARQL query, return\n",
    "    the data as JSON.\n",
    "    '''\n",
    "    user_agent = 'jupyter notebook'\n",
    "    sparql = SPARQLWrapper(endpoint, agent=user_agent)\n",
    "    sparql.setQuery(query)\n",
    "    sparql.setReturnFormat(JSON)\n",
    "    return sparql.query().convert()[\"results\"][\"bindings\"]"
   ]
  },
  {
   "cell_type": "code",
   "execution_count": 49,
   "id": "9702b44d",
   "metadata": {},
   "outputs": [
    {
     "name": "stdout",
     "output_type": "stream",
     "text": [
      "Query results are structured like this:\n",
      " {'item': {'type': 'uri', 'value': 'http://zora.uni-trier.de:44000/entity/Q28'}, 'pubdate': {'datatype': 'http://www.w3.org/2001/XMLSchema#dateTime', 'type': 'literal', 'value': '1751-01-01T00:00:00Z'}}\n",
      "http://zora.uni-trier.de:44000/entity/Q27   1800-01-01\n",
      "http://zora.uni-trier.de:44000/entity/Q32   1753-01-01\n",
      "http://zora.uni-trier.de:44000/entity/Q43   1758-01-01\n",
      "http://zora.uni-trier.de:44000/entity/Q56   1761-01-01\n",
      "http://zora.uni-trier.de:44000/entity/Q68   1767-01-01\n",
      "Name: pubyear, dtype: datetime64[ns]\n"
     ]
    },
    {
     "data": {
      "text/plain": [
       "<AxesSubplot:>"
      ]
     },
     "execution_count": 49,
     "metadata": {},
     "output_type": "execute_result"
    },
    {
     "data": {
      "image/png": "[encoded data removed]",
      "text/plain": [
       "<Figure size 432x288 with 1 Axes>"
      ]
     },
     "metadata": {
      "needs_background": "light"
     },
     "output_type": "display_data"
    }
   ],
   "source": [
    "# Publication date\n",
    "import datetime as dt\n",
    "\n",
    "query = ''.join([\n",
    "    'SELECT ?item ?pubdate ',\n",
    "    'WHERE { ?item wdt:',\n",
    "    ITEM_IDS['publication_date'],\n",
    "    ' ?pubdate. }'\n",
    "])\n",
    "pubdate = get_data(wb_endpoint, query)\n",
    "\n",
    "print('Query results are structured like this:\\n', pubdate[0])\n",
    "\n",
    "bgrf['pubyear'] = pd.Series(\n",
    "    data=[dt.date.fromisoformat(entry['pubdate']['value'].split('T')[0]) for entry in pubdate],\n",
    "    index=[entry['item']['value'] for entry in pubdate],\n",
    "    dtype='datetime64[ns]'\n",
    ")\n",
    "\n",
    "print(bgrf['pubyear'].head())\n",
    "\n",
    "year_range = bgrf['pubyear'].max().year - bgrf['pubyear'].min().year\n",
    "bgrf['pubyear'].hist(bins=year_range)"
   ]
  },
  {
   "cell_type": "code",
   "execution_count": 10,
   "id": "3a4608f2",
   "metadata": {},
   "outputs": [],
   "source": [
    "# Author gender\n",
    "# NOTE: currently no data in Wikibase at :44100.\n",
    "query = ''.join([\n",
    "    'SELECT ?item ?gender ',\n",
    "    'WHERE { ?item wdt:',\n",
    "    ITEM_IDS['sex_or_gender'],\n",
    "    ' ?gender. }'\n",
    "])\n",
    "gender = get_data(wb_endpoint, query)"
   ]
  },
  {
   "cell_type": "code",
   "execution_count": 47,
   "id": "9f2c7a41",
   "metadata": {},
   "outputs": [],
   "source": [
    "# Page count\n",
    "# NOTE: I do not know yet how to estimate the text length based\n",
    "#       on only the page count.\n",
    "query = ''.join([\n",
    "    'SELECT ?item ?pages ',\n",
    "    'WHERE { ?item wdt:',\n",
    "    ITEM_IDS['page_count_str'],\n",
    "    ' ?pages. }'\n",
    "])\n",
    "page_count = get_data(wb_endpoint, query)"
   ]
  },
  {
   "cell_type": "code",
   "execution_count": 62,
   "id": "7bf9ccb3",
   "metadata": {},
   "outputs": [
    {
     "data": {
      "image/png": "[encoded data removed]",
      "text/plain": [
       "<Figure size 432x288 with 1 Axes>"
      ]
     },
     "metadata": {
      "needs_background": "light"
     },
     "output_type": "display_data"
    }
   ],
   "source": [
    "# Narrative form\n",
    "query = ''.join([\n",
    "    'SELECT ?item ?form ',\n",
    "    'WHERE { ?item wdt:',\n",
    "    ITEM_IDS['narrative_form_str'],\n",
    "    ' ?form. }'\n",
    "])\n",
    "form = get_data(wb_endpoint, query)\n",
    "form = pd.Series(\n",
    "    data=[entry['form']['value'] for entry in form],\n",
    "    index=[entry['item']['value'] for entry in form],\n",
    "    dtype='category'\n",
    ")\n",
    "# This is brutish, but I do not want to write some elaborate\n",
    "# regexes for something which is essentially still undecided as far\n",
    "# as the adequate modelling goes.\n",
    "mapping = {\n",
    "    'Dialogues': 'dialogue novel',\n",
    "    'Deux récits 1re personne': '',\n",
    "    'Ire personne virant à la 3e, avec dialogues': '',\n",
    "    'Ire personne (mémoires découpés en lettres)': '',\n",
    "    'Saillard Tchemerzine 3e personne': 'heterodiegetic',\n",
    "    '3e personne, avec récit intercalé 1re personne': '',\n",
    "    '1re personne, avec récits intercalés 1re personne': 'autodiegetic',\n",
    "    '3e personne, avec dialogues, récits intercalés 1re personne, intervention du narrateur': '',\n",
    "    '3e partie: Relation du voyage d’un sublunaire; 1re personne avec des récits d’autres voyageurs': '',\n",
    "    '1re personne (mémoires)': 'autodiegetic',\n",
    "    '1re personne (mémoires), avec récit intercalé 1re personne': 'autodiegetic',\n",
    "    '1re personne, songe': 'autodiegetic',\n",
    "    'Lettres, avec récits intercalés 1re personne': 'epistolary',\n",
    "    'Lettres': 'epistolary',\n",
    "    'Saint-Fargeau Lettres': 'epistolary',\n",
    "    '3e personne, avec récits intercalés 1re personne et lettres': 'mixed',\n",
    "    'Dialogue, avec récits racontés par les personnages': 'dialogue novel',\n",
    "    '3e personne': 'heterodiegetic',\n",
    "    '3e personne, avec récit de Jezennemours à la 1re personne': 'homodiegetic',\n",
    "    '3e personne avec des observations 1re personne': 'homodiegetic',\n",
    "    'Lettres, interrompues par un récit (I, 83 - 160)': 'mixed',\n",
    "    '1re personne': 'autodiegetic',\n",
    "    'Lettres, avec deux histoires intercalées': 'mixed',\n",
    "    'Cadre 1re personne avec récit 1re personne': 'autodiegetic',\n",
    "    '3e personne, avec contes intercalés 3e personne (I, 43, Le plaisir, conte moral; II, 10, Aventure du pèlerin)': 'homodiegetic',\n",
    "    '3e personne, interrompu par des conversations': 'homodiegetic',\n",
    "    'Ire personne': 'autodiegetic',\n",
    "    '3e personne, avec récits intercalés 1re personne': 'homodiegetic',\n",
    "}\n",
    "#print('\\n'.join([i for i in set(bgrf['form'].values) ]))\n",
    "bgrf['form'] = form.replace(mapping)\n",
    "bgrf['form'].head()\n",
    "h = bgrf['form'].hist(bins=15)\n",
    "h.xaxis.set_tick_params(labelrotation=30)"
   ]
  }
 ],
 "metadata": {
  "kernelspec": {
   "display_name": "Python 3 (ipykernel)",
   "language": "python",
   "name": "python3"
  },
  "language_info": {
   "codemirror_mode": {
    "name": "ipython",
    "version": 3
   },
   "file_extension": ".py",
   "mimetype": "text/x-python",
   "name": "python",
   "nbconvert_exporter": "python",
   "pygments_lexer": "ipython3",
   "version": "3.9.2"
  }
 },
 "nbformat": 4,
 "nbformat_minor": 5
}
