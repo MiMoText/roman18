{
 "cells": [
  {
   "cell_type": "markdown",
   "id": "46f1479b",
   "metadata": {},
   "source": [
    "# Corpus and BGRF Composition\n",
    "\n",
    "We describe and analyse the status quo of the corpus with respect to criteria like author gender, year of first publication, narrative form etc. Then we compare it to the \"baseline\" of the BGRF.\n",
    "\n",
    "**Table of Contents**\n",
    "* [Prerequisites](#Prerequisites)\n",
    "* [Corpus Metadata](#Corpus-Metadata)\n",
    "  - [Author Gender](#Author-Gender)\n",
    "  - [Text Length](#Text-Length)\n",
    "  - [Publication Date](#Year-of-first-publication)\n",
    "  - [Narrative Form](#Narrative-Form)\n",
    "* [BGRF Metadata from Wikibase](#BGRF-Metadata-from-Wikibase)\n",
    "  - [Configuration](#Configuration)\n",
    "  - [Data Loading](#Data-Loading)\n",
    "  - [Author Gender](#Author-Gender-(BGRF))\n",
    "  - [Text Length](#Text-Length-(BGRF))\n",
    "  - [Publication Date](#Publication-Date-(BGRF))\n",
    "  - [Narrative Form](#Narrative-Form-(BGRF))\n",
    "* [Comparison](#Comparison)\n",
    "  - [Publication Date](#Publication-Date-(Corpus-vs-BGRF))\n",
    "  "
   ]
  },
  {
   "cell_type": "markdown",
   "id": "7c376e52",
   "metadata": {},
   "source": [
    "## Prerequisites"
   ]
  },
  {
   "cell_type": "code",
   "execution_count": 341,
   "id": "224778ef",
   "metadata": {},
   "outputs": [],
   "source": [
    "import pandas as pd\n",
    "import matplotlib.pyplot as plt\n",
    "import numpy as np\n",
    "import seaborn as sns\n",
    "sns.set()\n",
    "\n",
    "# Install with e.g. `pip install sparqlwrapper`\n",
    "from SPARQLWrapper import SPARQLWrapper, JSON\n",
    "\n",
    "# Make plots appear directly in the notebook.\n",
    "%matplotlib inline"
   ]
  },
  {
   "cell_type": "markdown",
   "id": "8e7612e9",
   "metadata": {},
   "source": [
    "The later parts also require access to a Wikibase instance, which is only accessible in/over the university network."
   ]
  },
  {
   "cell_type": "markdown",
   "id": "67570b0a",
   "metadata": {},
   "source": [
    "## Corpus Metadata"
   ]
  },
  {
   "cell_type": "code",
   "execution_count": 342,
   "id": "74128ae2",
   "metadata": {
    "scrolled": true
   },
   "outputs": [
    {
     "name": "stdout",
     "output_type": "stream",
     "text": [
      "Available column names: ['filename' 'au-name' 'title' 'au-gender' 'firsted-yr' 'printSource-yr'\n",
      " 'form' 'spelling' 'data-capture' 'token count' 'size' 'bgrf']\n"
     ]
    }
   ],
   "source": [
    "# Adjust the URL to the .tsv file as needed.\n",
    "DATA_URL = 'https://raw.githubusercontent.com/MiMoText/roman18/master/XML-TEI/xml-tei_metadata.tsv'\n",
    "corpus = pd.read_csv(DATA_URL, sep='\\t')\n",
    "print('Available column names:', corpus.columns.values)"
   ]
  },
  {
   "cell_type": "markdown",
   "id": "ee1ca46d",
   "metadata": {},
   "source": [
    "### Author Gender\n",
    "\n",
    "Data is in the column 'au-gender'. Possible values are 'F', 'M' and 'U'."
   ]
  },
  {
   "cell_type": "code",
   "execution_count": 343,
   "id": "909c54c8",
   "metadata": {},
   "outputs": [
    {
     "name": "stdout",
     "output_type": "stream",
     "text": [
      "Set of all occuring values: {'U', 'F', 'M'}\n",
      "% of female authors: \t0.184\n",
      "% of male authors: \t0.789\n",
      "% of unknown/other: \t0.026\n"
     ]
    },
    {
     "data": {
      "text/plain": [
       "Text(0, 0.5, 'Count in corpus')"
      ]
     },
     "execution_count": 343,
     "metadata": {},
     "output_type": "execute_result"
    },
    {
     "data": {
      "image/png": "[encoded data removed]",
      "text/plain": [
       "<Figure size 432x288 with 1 Axes>"
      ]
     },
     "metadata": {
      "needs_background": "light"
     },
     "output_type": "display_data"
    }
   ],
   "source": [
    "gender = corpus['au-gender'].astype('category')\n",
    "print('Set of all occuring values:', set(gender.values))\n",
    "ratio_female = (gender == 'F').sum() / gender.count()\n",
    "ratio_male = (gender == 'M').sum() / gender.count()\n",
    "ratio_other = 1 - ratio_female - ratio_male\n",
    "print(\n",
    "    f'% of female authors: \\t{ratio_female:.3f}\\n'\n",
    "    f'% of male authors: \\t{ratio_male:.3f}\\n'\n",
    "    f'% of unknown/other: \\t{ratio_other:.3f}'\n",
    ")\n",
    "sns.countplot(x=gender)\n",
    "plt.xlabel('Author gender')\n",
    "plt.ylabel('Count in corpus')"
   ]
  },
  {
   "cell_type": "markdown",
   "id": "d5093508",
   "metadata": {},
   "source": [
    "### Text Length\n",
    "Data is in the column 'size', possible values are 'short', 'medium', 'long'."
   ]
  },
  {
   "cell_type": "code",
   "execution_count": 344,
   "id": "da2f3957",
   "metadata": {},
   "outputs": [
    {
     "name": "stdout",
     "output_type": "stream",
     "text": [
      "% of short texts: \t0.491\n",
      "% of medium texts: \t0.289\n",
      "% of long texts: \t0.219\n"
     ]
    },
    {
     "data": {
      "text/plain": [
       "Text(0, 0.5, 'Count in corpus')"
      ]
     },
     "execution_count": 344,
     "metadata": {},
     "output_type": "execute_result"
    },
    {
     "data": {
      "image/png": "[encoded data removed]",
      "text/plain": [
       "<Figure size 432x288 with 1 Axes>"
      ]
     },
     "metadata": {
      "needs_background": "light"
     },
     "output_type": "display_data"
    }
   ],
   "source": [
    "size = corpus['size']\n",
    "ratio_size_short = (size == 'short').sum() / size.count()\n",
    "ratio_size_med = (size == 'medium').sum() / size.count()\n",
    "ratio_size_long = (size == 'long').sum() / size.count()\n",
    "print(\n",
    "    f'% of short texts: \\t{ratio_size_short:.3f}\\n'\n",
    "    f'% of medium texts: \\t{ratio_size_med:.3f}\\n'\n",
    "    f'% of long texts: \\t{ratio_size_long:.3f}'\n",
    ")\n",
    "sns.countplot(x=size)\n",
    "plt.xlabel('Text length')\n",
    "plt.ylabel('Count in corpus')"
   ]
  },
  {
   "cell_type": "markdown",
   "id": "a496e1cc",
   "metadata": {},
   "source": [
    "### Year of first publication\n",
    "Data is in the column 'firsted-yr'. However, possible values can be single years `(yyyy)`, year spans `(yyyy-yyyy)`, the floating point number value `NaN`, or even a string like `'unknown'`. Therefore, we need to clean up a bit before we can use it. In case of year ranges, we simply use the first year."
   ]
  },
  {
   "cell_type": "code",
   "execution_count": 345,
   "id": "c7e85380",
   "metadata": {
    "raw_mimetype": "text/x-python",
    "scrolled": false
   },
   "outputs": [
    {
     "data": {
      "text/plain": [
       "<seaborn.axisgrid.FacetGrid at 0x7f93597f0af0>"
      ]
     },
     "execution_count": 345,
     "metadata": {},
     "output_type": "execute_result"
    },
    {
     "data": {
      "image/png": "[encoded data removed]",
      "text/plain": [
       "<Figure size 720x360 with 1 Axes>"
      ]
     },
     "metadata": {
      "needs_background": "light"
     },
     "output_type": "display_data"
    }
   ],
   "source": [
    "pubyear = (corpus['firsted-yr']\n",
    "    .astype('|S')\n",
    "    .replace('(\\d{4})-\\d{4}', '\\1', regex=True)\n",
    "    .str.decode('utf-8'))\n",
    "pubyear = pd.to_datetime(pubyear, errors='coerce')\n",
    "\n",
    "#pubyear = pd.to_numeric(pubyear, errors='coerce').astype('Int64')\n",
    "time_range = pubyear.max().year - pubyear.min().year\n",
    "plot = sns.displot(x=pubyear, bins=time_range, height=5, aspect=16/8)\n",
    "plot.set_xticklabels(rotation=90)"
   ]
  },
  {
   "cell_type": "markdown",
   "id": "92e1b964",
   "metadata": {},
   "source": [
    "### Narrative form\n",
    "Data is in the column 'form'. Possible values include `'mixed'`, `'autodiegetic'`, `'heterodiegetic'`, `'homodiegetic'`, `'epistolary'`, `'dialogue novel'` and also `NaN`."
   ]
  },
  {
   "cell_type": "code",
   "execution_count": 346,
   "id": "e9b4efdd",
   "metadata": {},
   "outputs": [
    {
     "name": "stdout",
     "output_type": "stream",
     "text": [
      "Set of all values:  {nan, 'autodiegetic', 'epistolary', 'heterodiegetic', 'homodiegetic', 'mixed', 'dialogue novel'}\n",
      "% of mixed: \t0.036\n",
      "% of autodiegetic: \t0.250\n",
      "% of heterodiegetic: \t0.348\n",
      "% of homodiegetic: \t0.036\n",
      "% of epistolary: \t0.268\n",
      "% of dialogue novel: \t0.062\n"
     ]
    },
    {
     "data": {
      "image/png": "[encoded data removed]",
      "text/plain": [
       "<Figure size 432x288 with 1 Axes>"
      ]
     },
     "metadata": {
      "needs_background": "light"
     },
     "output_type": "display_data"
    }
   ],
   "source": [
    "form = corpus['form'].astype('category')\n",
    "print('Set of all values: ', set(form.values))\n",
    "print('\\n'.join([\n",
    "    f'% of {kind}: \\t{((form==kind).sum()/form.count()):.3f}'\n",
    "    for kind in [\n",
    "        'mixed', 'autodiegetic', 'heterodiegetic', 'homodiegetic',\n",
    "        'epistolary', 'dialogue novel'\n",
    "    ]\n",
    "]))\n",
    "plot = sns.countplot(x=form)\n",
    "_ = plt.xticks(rotation=30, horizontalalignment='right')"
   ]
  },
  {
   "cell_type": "markdown",
   "id": "4612c55d",
   "metadata": {},
   "source": [
    "## BGRF Metadata from Wikibase\n",
    "Data is pulled from Wikibase. For the moment, our instance on port 53100 is used. This may change in the future, which then will not only affect the URL but also the IDs of the items and predicates. Adjust these accordingly in the [Configuration Section](#Configuration)."
   ]
  },
  {
   "cell_type": "markdown",
   "id": "082667ad",
   "metadata": {},
   "source": [
    "### Configuration"
   ]
  },
  {
   "cell_type": "code",
   "execution_count": 347,
   "id": "9f3db722",
   "metadata": {},
   "outputs": [],
   "source": [
    "# Adjust these values whenever another Wikibase instance is to be used.\n",
    "WB_URL = 'http://zora.uni-trier.de:53100'\n",
    "ITEM_IDS = {\n",
    "    'publication_date': 'P7',\n",
    "    'publication_date_str': 'P43',  # hard to use, since not normalized\n",
    "    'sex_or_gender': 'P29',         # currently no data on :53100\n",
    "    'narrative_form': 'P55',        # currently no data on :53100\n",
    "    'narrative_form_str': 'P47',\n",
    "    'page_count': 'P35',            # currently no data on :53100\n",
    "    'page_count_str': 'P45',\n",
    "    'distribution_format_str': 'P46',\n",
    "    'distribution_format': 'P38',   # currently no data on :53100\n",
    "}"
   ]
  },
  {
   "cell_type": "markdown",
   "id": "a8a9b641",
   "metadata": {},
   "source": [
    "### Data Loading"
   ]
  },
  {
   "cell_type": "markdown",
   "id": "21d85e9d",
   "metadata": {},
   "source": [
    "We use the SPARQL endpoint to query the bibliography metadata. Each metadatum gets its own query to enhance recall (otherwise some items which have some, but not all, properties set, would get filtered out. This is particularly relevant because there is no data on gender in Wikibase, yet)."
   ]
  },
  {
   "cell_type": "code",
   "execution_count": 348,
   "id": "cb87bd42",
   "metadata": {},
   "outputs": [],
   "source": [
    "bgrf = pd.DataFrame()\n",
    "wb_endpoint = f'{WB_URL}/proxy/wdqs/bigdata/namespace/wdq/sparql'\n",
    "\n",
    "def get_data(endpoint, query):\n",
    "    '''Given an endpoint URL and a SPARQL query, return\n",
    "    the data as JSON.\n",
    "    '''\n",
    "    user_agent = 'jupyter notebook'\n",
    "    sparql = SPARQLWrapper(endpoint, agent=user_agent)\n",
    "    sparql.setQuery(query)\n",
    "    sparql.setReturnFormat(JSON)\n",
    "    return sparql.query().convert()[\"results\"][\"bindings\"]"
   ]
  },
  {
   "cell_type": "markdown",
   "id": "18d676b1",
   "metadata": {},
   "source": [
    "This wrapper function conveniently provides the data as python dictionaries.\n",
    "For example, to get all the data values for the property `narrative_form_str`,\n",
    "we can use the following:"
   ]
  },
  {
   "cell_type": "code",
   "execution_count": 349,
   "id": "488c6d5f",
   "metadata": {
    "scrolled": true
   },
   "outputs": [
    {
     "name": "stdout",
     "output_type": "stream",
     "text": [
      "Number of distinct values: 38\n",
      "Each entry has the following form (NPI): {'form': {'xml:lang': 'fr', 'type': 'literal', 'value': 'in—18'}}\n"
     ]
    }
   ],
   "source": [
    "ex_query = 'SELECT DISTINCT ?form WHERE { ?item wdt:P46 ?form. }'\n",
    "results = get_data(wb_endpoint, ex_query)\n",
    "print('Number of distinct values:', len(results))\n",
    "print('Each entry has the following form (NPI):', results[0])"
   ]
  },
  {
   "cell_type": "markdown",
   "id": "1db5c28c",
   "metadata": {},
   "source": [
    "The key `'form'` corresponds to us choosing `?form` as the output variable in our SPARQL query."
   ]
  },
  {
   "cell_type": "markdown",
   "id": "b820052a",
   "metadata": {},
   "source": [
    "### Author Gender (BGRF)"
   ]
  },
  {
   "cell_type": "code",
   "execution_count": 350,
   "id": "3a4608f2",
   "metadata": {},
   "outputs": [],
   "source": [
    "# Author gender\n",
    "# NOTE: currently no data in Wikibase at :44100.\n",
    "query = ''.join([\n",
    "    'SELECT ?item ?gender ',\n",
    "    'WHERE { ?item wdt:',\n",
    "    ITEM_IDS['sex_or_gender'],\n",
    "    ' ?gender. }'\n",
    "])\n",
    "gender = get_data(wb_endpoint, query)"
   ]
  },
  {
   "cell_type": "markdown",
   "id": "f64cb88f",
   "metadata": {},
   "source": [
    "### Text Length (BGRF)"
   ]
  },
  {
   "cell_type": "code",
   "execution_count": 351,
   "id": "9f2c7a41",
   "metadata": {},
   "outputs": [],
   "source": [
    "# Page count\n",
    "# NOTE: I do not know yet how to estimate the text length based\n",
    "#       on only the page count.\n",
    "query = ''.join([\n",
    "    'SELECT ?item ?pages ',\n",
    "    'WHERE { ?item wdt:',\n",
    "    ITEM_IDS['page_count_str'],\n",
    "    ' ?pages. }'\n",
    "])\n",
    "page_count = get_data(wb_endpoint, query)"
   ]
  },
  {
   "cell_type": "markdown",
   "id": "1a778c4d",
   "metadata": {},
   "source": [
    "### Publication Date (BGRF)"
   ]
  },
  {
   "cell_type": "code",
   "execution_count": 352,
   "id": "9702b44d",
   "metadata": {},
   "outputs": [
    {
     "name": "stdout",
     "output_type": "stream",
     "text": [
      "The new data Series looks like this:\n",
      " http://zora.uni-trier.de:53000/entity/Q28   1751-01-01\n",
      "http://zora.uni-trier.de:53000/entity/Q30   1752-01-01\n",
      "http://zora.uni-trier.de:53000/entity/Q32   1753-01-01\n",
      "Name: pubyear, dtype: datetime64[ns]\n"
     ]
    },
    {
     "data": {
      "text/plain": [
       "<seaborn.axisgrid.FacetGrid at 0x7f9358eaa3a0>"
      ]
     },
     "execution_count": 352,
     "metadata": {},
     "output_type": "execute_result"
    },
    {
     "data": {
      "image/png": "[encoded data removed]",
      "text/plain": [
       "<Figure size 720x360 with 1 Axes>"
      ]
     },
     "metadata": {
      "needs_background": "light"
     },
     "output_type": "display_data"
    }
   ],
   "source": [
    "# Publication date\n",
    "import datetime as dt\n",
    "\n",
    "query = ''.join([\n",
    "    'SELECT ?item ?pubdate ',\n",
    "    'WHERE { ?item wdt:',\n",
    "    ITEM_IDS['publication_date'],\n",
    "    ' ?pubdate. }'\n",
    "])\n",
    "pubdate = get_data(wb_endpoint, query)\n",
    "\n",
    "bgrf['pubyear'] = pd.Series(\n",
    "    data=[dt.date.fromisoformat(entry['pubdate']['value'].split('T')[0]) for entry in pubdate],\n",
    "    index=[entry['item']['value'] for entry in pubdate],\n",
    "    dtype='datetime64[ns]'\n",
    ")\n",
    "\n",
    "print('The new data Series looks like this:\\n', bgrf['pubyear'].head(3))\n",
    "\n",
    "year_range = bgrf['pubyear'].max().year - bgrf['pubyear'].min().year\n",
    "plot = sns.displot(x=bgrf['pubyear'], bins=time_range, height=5, aspect=16/8)\n",
    "plot.set_xticklabels(rotation=90)"
   ]
  },
  {
   "cell_type": "markdown",
   "id": "7e7d80d3",
   "metadata": {},
   "source": [
    "### Narrative Form (BGRF)"
   ]
  },
  {
   "cell_type": "code",
   "execution_count": 353,
   "id": "7bf9ccb3",
   "metadata": {},
   "outputs": [
    {
     "data": {
      "image/png": "[encoded data removed]",
      "text/plain": [
       "<Figure size 432x288 with 1 Axes>"
      ]
     },
     "metadata": {
      "needs_background": "light"
     },
     "output_type": "display_data"
    }
   ],
   "source": [
    "# Narrative form\n",
    "query = ''.join([\n",
    "    'SELECT ?item ?form ',\n",
    "    'WHERE { ?item wdt:',\n",
    "    ITEM_IDS['narrative_form_str'],\n",
    "    ' ?form. }'\n",
    "])\n",
    "form = get_data(wb_endpoint, query)\n",
    "form = pd.Series(\n",
    "    data=[entry['form']['value'] for entry in form],\n",
    "    index=[entry['item']['value'] for entry in form],\n",
    "    dtype='category'\n",
    ")\n",
    "# This is brutish, but I do not want to write some elaborate\n",
    "# regexes for something which is essentially still undecided as far\n",
    "# as the adequate modelling goes.\n",
    "mapping = {\n",
    "    'Dialogues': 'dialogue novel',\n",
    "    'Deux récits 1re personne': 'undecided',\n",
    "    'Ire personne virant à la 3e, avec dialogues': 'undecided',\n",
    "    'Ire personne (mémoires découpés en lettres)': 'undecided',\n",
    "    'Saillard Tchemerzine 3e personne': 'heterodiegetic',\n",
    "    '3e personne, avec récit intercalé 1re personne': 'undecided',\n",
    "    '1re personne, avec récits intercalés 1re personne': 'autodiegetic',\n",
    "    '3e personne, avec dialogues, récits intercalés 1re personne, intervention du narrateur': 'undecided',\n",
    "    '3e partie: Relation du voyage d’un sublunaire; 1re personne avec des récits d’autres voyageurs': 'undecided',\n",
    "    '1re personne (mémoires)': 'autodiegetic',\n",
    "    '1re personne (mémoires), avec récit intercalé 1re personne': 'autodiegetic',\n",
    "    '1re personne, songe': 'autodiegetic',\n",
    "    'Lettres, avec récits intercalés 1re personne': 'epistolary',\n",
    "    'Lettres': 'epistolary',\n",
    "    'Saint-Fargeau Lettres': 'epistolary',\n",
    "    '3e personne, avec récits intercalés 1re personne et lettres': 'mixed',\n",
    "    'Dialogue, avec récits racontés par les personnages': 'dialogue novel',\n",
    "    '3e personne': 'heterodiegetic',\n",
    "    '3e personne, avec récit de Jezennemours à la 1re personne': 'homodiegetic',\n",
    "    '3e personne avec des observations 1re personne': 'homodiegetic',\n",
    "    'Lettres, interrompues par un récit (I, 83 - 160)': 'mixed',\n",
    "    '1re personne': 'autodiegetic',\n",
    "    'Lettres, avec deux histoires intercalées': 'mixed',\n",
    "    'Cadre 1re personne avec récit 1re personne': 'autodiegetic',\n",
    "    '3e personne, avec contes intercalés 3e personne (I, 43, Le plaisir, conte moral; II, 10, Aventure du pèlerin)': 'homodiegetic',\n",
    "    '3e personne, interrompu par des conversations': 'homodiegetic',\n",
    "    'Ire personne': 'autodiegetic',\n",
    "    '3e personne, avec récits intercalés 1re personne': 'homodiegetic',\n",
    "}\n",
    "#print('\\n'.join([i for i in set(bgrf['form'].values) ]))\n",
    "bgrf['form'] = form.replace(mapping).astype('category')\n",
    "plot = sns.countplot(x=bgrf['form'])\n",
    "_ = plt.xticks(rotation=30, horizontalalignment='right')"
   ]
  },
  {
   "cell_type": "markdown",
   "id": "098f839a",
   "metadata": {},
   "source": [
    "## Comparison"
   ]
  },
  {
   "cell_type": "markdown",
   "id": "db0a920e",
   "metadata": {},
   "source": [
    "### Publication Date (Corpus vs BGRF)"
   ]
  },
  {
   "cell_type": "code",
   "execution_count": 367,
   "id": "a8e90422",
   "metadata": {},
   "outputs": [
    {
     "name": "stdout",
     "output_type": "stream",
     "text": [
      "The data in \"wide form\"\n",
      "             freq_corpus  freq_bgrf  year\n",
      "1730-01-01          NaN        NaN  1730\n",
      "1731-01-01     0.009174        NaN  1731\n",
      "1732-01-01          NaN        NaN  1732\n",
      "1733-01-01          NaN        NaN  1733 \n",
      "\n",
      "The data in \"long form\"\n",
      "    year       origin  rel_freq\n",
      "0  1730  freq_corpus       NaN\n",
      "1  1731  freq_corpus  0.009174\n",
      "2  1732  freq_corpus       NaN\n",
      "3  1733  freq_corpus       NaN\n"
     ]
    }
   ],
   "source": [
    "# Publication year of corpus texts:\n",
    "year_corpus = (corpus['firsted-yr']\n",
    "    .astype('|S')\n",
    "    .replace('(\\d{4})-\\d{4}', '\\1', regex=True)\n",
    "    .str.decode('utf-8'))\n",
    "year_corpus = pd.to_datetime(year_corpus, errors='coerce')\n",
    "\n",
    "# Publication year of BGRF items:\n",
    "year_bgrf = bgrf['pubyear']\n",
    "\n",
    "# Create a date index which includes the whole data range\n",
    "# so that we can fill in missing data points.\n",
    "idx = pd.date_range(start='1730', end='1800', freq='YS', closed=None)\n",
    "\n",
    "# In previous visualizations we have used absolute value counts.\n",
    "# For comparison we obviously need to use relative frequencies instead.\n",
    "df = pd.DataFrame(index=idx)\n",
    "df['freq_corpus'] = year_corpus.value_counts(normalize=True)\n",
    "df['freq_bgrf'] = year_bgrf.value_counts(normalize=True)\n",
    "df['year'] = df.index.year\n",
    "print('The data in \"wide form\"\\n', df.head(4), '\\n')\n",
    "\n",
    "# For the visualization we need the data in \"long form\", i.e. all the\n",
    "# relative frequencies are in one single column, with another column \n",
    "# specifying whether it stems from the corpus or the bibliography.\n",
    "long = pd.melt(\n",
    "    df, id_vars=['year'], value_vars=['freq_corpus', 'freq_bgrf'],\n",
    "    var_name='origin', value_name='rel_freq')\n",
    "\n",
    "print('The data in \"long form\"\\n', long.head(4))"
   ]
  },
  {
   "cell_type": "code",
   "execution_count": 368,
   "id": "a34cb012",
   "metadata": {
    "scrolled": true
   },
   "outputs": [
    {
     "data": {
      "image/png": "[encoded data removed]",
      "text/plain": [
       "<Figure size 1080x360 with 1 Axes>"
      ]
     },
     "metadata": {
      "needs_background": "light"
     },
     "output_type": "display_data"
    }
   ],
   "source": [
    "sns.catplot(x='year', y='rel_freq', hue='origin', kind='bar', data=long, height=5, aspect=3, legend_out=False)\n",
    "plt.xlabel('Publication Year')\n",
    "plt.ylabel('Share of all texts in collection')\n",
    "_ = plt.xticks(rotation=90)"
   ]
  },
  {
   "cell_type": "markdown",
   "id": "2ec196e5",
   "metadata": {},
   "source": [
    "The outlier with publication year 1731 makes the above chart a bit harder to read than necessary. So let's create the same graph with data starting at 1751."
   ]
  },
  {
   "cell_type": "code",
   "execution_count": 370,
   "id": "291de1cd",
   "metadata": {},
   "outputs": [
    {
     "data": {
      "image/png": "[encoded data removed]",
      "text/plain": [
       "<Figure size 1080x360 with 1 Axes>"
      ]
     },
     "metadata": {
      "needs_background": "light"
     },
     "output_type": "display_data"
    }
   ],
   "source": [
    "sns.catplot(x='year', y='rel_freq', hue='origin', kind='bar', data=long[long['year'] > 1750], height=5, aspect=3,\n",
    "           legend_out=False)\n",
    "plt.xlabel('Publication Year')\n",
    "plt.ylabel('Share of all texts\\nin resp. collection')\n",
    "_ = plt.xticks(rotation=90)"
   ]
  }
 ],
 "metadata": {
  "kernelspec": {
   "display_name": "Python 3 (ipykernel)",
   "language": "python",
   "name": "python3"
  },
  "language_info": {
   "codemirror_mode": {
    "name": "ipython",
    "version": 3
   },
   "file_extension": ".py",
   "mimetype": "text/x-python",
   "name": "python",
   "nbconvert_exporter": "python",
   "pygments_lexer": "ipython3",
   "version": "3.9.2"
  }
 },
 "nbformat": 4,
 "nbformat_minor": 5
}
