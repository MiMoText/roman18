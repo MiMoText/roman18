{
 "cells": [
  {
   "cell_type": "markdown",
   "id": "46f1479b",
   "metadata": {},
   "source": [
    "# Corpus and BGRF Composition\n",
    "\n",
    "We describe and analyse the status quo of the corpus with respect to criteria like author gender, year of first publication, narrative form etc. Then we compare it to the \"baseline\" of the BGRF."
   ]
  },
  {
   "cell_type": "markdown",
   "id": "7c376e52",
   "metadata": {},
   "source": [
    "## Prerequisites"
   ]
  },
  {
   "cell_type": "code",
   "execution_count": 33,
   "id": "224778ef",
   "metadata": {},
   "outputs": [],
   "source": [
    "import pandas as pd\n",
    "import numpy as np\n",
    "import seaborn as sns\n",
    "import matplotlib.pyplot as plt\n",
    "\n",
    "# Install with e.g. `pip install sparqlwrapper`\n",
    "from SPARQLWrapper import SPARQLWrapper, JSON\n",
    "\n",
    "# Make plots appear directly in the notebook.\n",
    "%matplotlib inline"
   ]
  },
  {
   "cell_type": "markdown",
   "id": "67570b0a",
   "metadata": {},
   "source": [
    "## Corpus Metadata"
   ]
  },
  {
   "cell_type": "code",
   "execution_count": 53,
   "id": "74128ae2",
   "metadata": {
    "scrolled": true
   },
   "outputs": [
    {
     "name": "stdout",
     "output_type": "stream",
     "text": [
      "Available column names: ['filename' 'au-name' 'title' 'au-gender' 'firsted-yr' 'printSource-yr'\n",
      " 'form' 'spelling' 'data-capture' 'token count' 'size' 'bgrf']\n"
     ]
    }
   ],
   "source": [
    "# Adjust the URL to the .tsv file as needed.\n",
    "DATA_URL = 'https://raw.githubusercontent.com/MiMoText/roman18/master/XML-TEI/xml-tei_metadata.tsv'\n",
    "corpus = pd.read_csv(DATA_URL, sep='\\t')\n",
    "print('Available column names:', corpus.columns.values)"
   ]
  },
  {
   "cell_type": "markdown",
   "id": "ee1ca46d",
   "metadata": {},
   "source": [
    "### Author Gender\n",
    "\n",
    "Data is in the column 'au-gender'. Possible values are 'F', 'M' and 'U'."
   ]
  },
  {
   "cell_type": "code",
   "execution_count": 46,
   "id": "909c54c8",
   "metadata": {},
   "outputs": [
    {
     "name": "stdout",
     "output_type": "stream",
     "text": [
      "Set of all occuring values: {'F', 'M', 'U'}\n",
      "% of female authors: \t0.184\n",
      "% of male authors: \t0.789\n",
      "% of unknown/other: \t0.026\n"
     ]
    },
    {
     "data": {
      "text/plain": [
       "<AxesSubplot:>"
      ]
     },
     "execution_count": 46,
     "metadata": {},
     "output_type": "execute_result"
    },
    {
     "data": {
      "image/png": "[encoded data removed]",
      "text/plain": [
       "<Figure size 432x288 with 1 Axes>"
      ]
     },
     "metadata": {
      "needs_background": "light"
     },
     "output_type": "display_data"
    }
   ],
   "source": [
    "gender = corpus['au-gender']\n",
    "ratio_female = (gender == 'F').sum() / gender.count()\n",
    "ratio_male = (gender == 'M').sum() / gender.count()\n",
    "ratio_other = 1 - ratio_female - ratio_male\n",
    "print('Set of all occuring values:', set(gender.values))\n",
    "print(\n",
    "    f'% of female authors: \\t{ratio_female:.3f}\\n'\n",
    "    f'% of male authors: \\t{ratio_male:.3f}\\n'\n",
    "    f'% of unknown/other: \\t{ratio_other:.3f}'\n",
    ")\n",
    "gender.hist()"
   ]
  },
  {
   "cell_type": "markdown",
   "id": "d5093508",
   "metadata": {},
   "source": [
    "### Text length\n",
    "Data is in the column 'size', possible values are 'short', 'medium', 'long'."
   ]
  },
  {
   "cell_type": "code",
   "execution_count": 40,
   "id": "da2f3957",
   "metadata": {},
   "outputs": [
    {
     "name": "stdout",
     "output_type": "stream",
     "text": [
      "% of short texts: \t0.491\n",
      "% of medium texts: \t0.289\n",
      "% of long texts: \t0.219\n"
     ]
    },
    {
     "data": {
      "text/plain": [
       "<AxesSubplot:>"
      ]
     },
     "execution_count": 40,
     "metadata": {},
     "output_type": "execute_result"
    },
    {
     "data": {
      "image/png": "[encoded data removed]",
      "text/plain": [
       "<Figure size 432x288 with 1 Axes>"
      ]
     },
     "metadata": {
      "needs_background": "light"
     },
     "output_type": "display_data"
    }
   ],
   "source": [
    "size = corpus['size']\n",
    "ratio_size_short = (size == 'short').sum() / size.count()\n",
    "ratio_size_med = (size == 'medium').sum() / size.count()\n",
    "ratio_size_long = (size == 'long').sum() / size.count()\n",
    "print(\n",
    "    f'% of short texts: \\t{ratio_size_short:.3f}\\n'\n",
    "    f'% of medium texts: \\t{ratio_size_med:.3f}\\n'\n",
    "    f'% of long texts: \\t{ratio_size_long:.3f}'\n",
    ")\n",
    "size.hist()"
   ]
  },
  {
   "cell_type": "markdown",
   "id": "a496e1cc",
   "metadata": {},
   "source": [
    "### Year of first publication\n",
    "Data is in the column 'firsted-yr'. However, possible values can be single years `(yyyy)`, year spans `(yyyy-yyyy)`, the floating point number value `NaN`, or even a string like `'unknown'`. Therefore, we need to clean up a bit before we can use it."
   ]
  },
  {
   "cell_type": "code",
   "execution_count": 51,
   "id": "77eea3f5",
   "metadata": {},
   "outputs": [
    {
     "data": {
      "text/plain": [
       "<AxesSubplot:>"
      ]
     },
     "execution_count": 51,
     "metadata": {},
     "output_type": "execute_result"
    },
    {
     "data": {
      "image/png": "[encoded data removed]",
      "text/plain": [
       "<Figure size 432x288 with 1 Axes>"
      ]
     },
     "metadata": {
      "needs_background": "light"
     },
     "output_type": "display_data"
    }
   ],
   "source": [
    "def adjust_year_range(year):\n",
    "    '''\n",
    "    The 'firsted-yr' column sometimes contains a range (e.g. '1782-1783'), and\n",
    "    sometimes 'unknown' or NaN. For the moment, let's use the first year\n",
    "    of a range, and use NaN whenever we have no valid year available. For consistency,\n",
    "    we use float as dtype as that's the type of NaN.\n",
    "    '''\n",
    "    if year == 'unknown':\n",
    "        return np.nan\n",
    "    try:\n",
    "        start, end = year.split('-')\n",
    "        return float(start)\n",
    "    except (ValueError, AttributeError):\n",
    "        return float(year)\n",
    "\n",
    "\n",
    "corpus['firsted-yr-adj'] = corpus['firsted-yr'].apply(adjust_year_range)\n",
    "pubyear = corpus['firsted-yr-adj']\n",
    "time_range = int(pubyear.max()-pubyear.min())\n",
    "pubyear.hist(bins=time_range)"
   ]
  },
  {
   "cell_type": "markdown",
   "id": "92e1b964",
   "metadata": {},
   "source": [
    "### Narrative form\n",
    "Data is in the column 'form'. Possible values include `'mixed'`, `'autodiegetic'`, `'heterodiegetic'`, `'homodiegetic'`, `'epistolary'`, `'dialogue novel'` and unfortunately also `NaN`."
   ]
  },
  {
   "cell_type": "code",
   "execution_count": 94,
   "id": "e9b4efdd",
   "metadata": {},
   "outputs": [
    {
     "name": "stdout",
     "output_type": "stream",
     "text": [
      "Set of all values:  {nan, 'mixed', 'autodiegetic', 'heterodiegetic', 'homodiegetic', 'epistolary', 'dialogue novel'}\n",
      "% of mixed: \t0.036\n",
      "% of autodiegetic: \t0.250\n",
      "% of heterodiegetic: \t0.348\n",
      "% of homodiegetic: \t0.036\n",
      "% of epistolary: \t0.268\n",
      "% of dialogue novel: \t0.062\n"
     ]
    },
    {
     "data": {
      "image/png": "[encoded data removed]",
      "text/plain": [
       "<Figure size 432x288 with 1 Axes>"
      ]
     },
     "metadata": {
      "needs_background": "light"
     },
     "output_type": "display_data"
    }
   ],
   "source": [
    "form = corpus['form']\n",
    "print('Set of all values: ', set(form.values))\n",
    "print('\\n'.join([\n",
    "    f'% of {kind}: \\t{((form==kind).sum()/form.count()):.3f}'\n",
    "    for kind in [\n",
    "        'mixed', 'autodiegetic', 'heterodiegetic', 'homodiegetic',\n",
    "        'epistolary', 'dialogue novel'\n",
    "    ]\n",
    "]))\n",
    "h = form.hist(bins=11)\n",
    "h.xaxis.set_tick_params(labelrotation=30)"
   ]
  }
 ],
 "metadata": {
  "celltoolbar": "Raw Cell Format",
  "kernelspec": {
   "display_name": "Python 3 (ipykernel)",
   "language": "python",
   "name": "python3"
  },
  "language_info": {
   "codemirror_mode": {
    "name": "ipython",
    "version": 3
   },
   "file_extension": ".py",
   "mimetype": "text/x-python",
   "name": "python",
   "nbconvert_exporter": "python",
   "pygments_lexer": "ipython3",
   "version": "3.9.2"
  }
 },
 "nbformat": 4,
 "nbformat_minor": 5
}
