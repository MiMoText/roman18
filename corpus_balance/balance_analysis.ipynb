{
 "cells": [
  {
   "cell_type": "markdown",
   "id": "46f1479b",
   "metadata": {},
   "source": [
    "# Corpus and BGRF Composition\n",
    "\n",
    "We describe and analyse the status quo of the corpus with respect to criteria like author gender, year of first publication, narrative form etc. Then we compare it to the \"baseline\" of the BGRF.\n",
    "\n",
    "**Table of Contents**\n",
    "* [Prerequisites](#Prerequisites)\n",
    "* [Corpus Metadata](#Corpus-Metadata)\n",
    "  - [Author Gender](#Author-Gender)\n",
    "  - [Text Length](#Text-Length)\n",
    "  - [Publication Date](#Year-of-first-publication)\n",
    "  - [Narrative Form](#Narrative-Form)\n",
    "* [BGRF Metadata from Wikibase](#BGRF-Metadata-from-Wikibase)\n",
    "  - [Configuration](#Configuration)\n",
    "  - [Data Loading](#Data-Loading)\n",
    "  - [Author Gender](#Author-Gender-(BGRF))\n",
    "  - [Text Length](#Text-Length-(BGRF))\n",
    "  - [Publication Date](#Publication-Date-(BGRF))\n",
    "  - [Narrative Form](#Narrative-Form-(BGRF))\n",
    "* [Comparison](#Comparison)\n",
    "  - [Publication Date](#Publication-Date-(Corpus-vs-BGRF))\n",
    "  "
   ]
  },
  {
   "cell_type": "markdown",
   "id": "7c376e52",
   "metadata": {},
   "source": [
    "## Prerequisites"
   ]
  },
  {
   "cell_type": "code",
   "execution_count": 38,
   "id": "224778ef",
   "metadata": {},
   "outputs": [],
   "source": [
    "import pandas as pd\n",
    "import matplotlib.pyplot as plt\n",
    "import numpy as np\n",
    "import seaborn as sns\n",
    "sns.set()\n",
    "\n",
    "# Install with e.g. `pip install sparqlwrapper`\n",
    "from SPARQLWrapper import SPARQLWrapper, JSON\n",
    "\n",
    "# Make plots appear directly in the notebook.\n",
    "%matplotlib inline\n",
    "\n",
    "from pprint import pprint"
   ]
  },
  {
   "cell_type": "markdown",
   "id": "8e7612e9",
   "metadata": {},
   "source": [
    "The later parts also require access to a Wikibase instance, which is only accessible in/over the university network."
   ]
  },
  {
   "cell_type": "markdown",
   "id": "67570b0a",
   "metadata": {},
   "source": [
    "## Corpus Metadata"
   ]
  },
  {
   "cell_type": "code",
   "execution_count": 40,
   "id": "74128ae2",
   "metadata": {
    "scrolled": true
   },
   "outputs": [
    {
     "name": "stdout",
     "output_type": "stream",
     "text": [
      "Available column names: ['filename' 'au-name' 'title' 'au-gender' 'firsted-yr' 'printSource-yr'\n",
      " 'form' 'spelling' 'data-capture' 'token count' 'size' 'bgrf']\n"
     ]
    }
   ],
   "source": [
    "# Adjust the URL to the .tsv file as needed.\n",
    "DATA_URL = 'https://raw.githubusercontent.com/MiMoText/roman18/master/XML-TEI/xml-tei_metadata.tsv'\n",
    "corpus = pd.read_csv(DATA_URL, sep='\\t')\n",
    "print('Available column names:', corpus.columns.values)"
   ]
  },
  {
   "cell_type": "markdown",
   "id": "ee1ca46d",
   "metadata": {},
   "source": [
    "### Author Gender\n",
    "\n",
    "Data is in the column 'au-gender'. Possible values are 'F', 'M' and 'U'."
   ]
  },
  {
   "cell_type": "code",
   "execution_count": 17,
   "id": "909c54c8",
   "metadata": {},
   "outputs": [
    {
     "name": "stdout",
     "output_type": "stream",
     "text": [
      "Set of all occuring values: {'M', 'F', 'U'}\n",
      "% of female authors: \t0.184\n",
      "% of male authors: \t0.789\n",
      "% of unknown/other: \t0.026\n"
     ]
    },
    {
     "data": {
      "text/plain": [
       "Text(0, 0.5, 'Count in corpus')"
      ]
     },
     "execution_count": 17,
     "metadata": {},
     "output_type": "execute_result"
    },
    {
     "data": {
      "image/png": "[encoded data removed]",
      "text/plain": [
       "<Figure size 432x288 with 1 Axes>"
      ]
     },
     "metadata": {
      "needs_background": "light"
     },
     "output_type": "display_data"
    }
   ],
   "source": [
    "gender = corpus['au-gender'].astype('category')\n",
    "print('Set of all occuring values:', set(gender.values))\n",
    "ratio_female = (gender == 'F').sum() / gender.count()\n",
    "ratio_male = (gender == 'M').sum() / gender.count()\n",
    "ratio_other = 1 - ratio_female - ratio_male\n",
    "print(\n",
    "    f'% of female authors: \\t{ratio_female:.3f}\\n'\n",
    "    f'% of male authors: \\t{ratio_male:.3f}\\n'\n",
    "    f'% of unknown/other: \\t{ratio_other:.3f}'\n",
    ")\n",
    "sns.countplot(x=gender)\n",
    "plt.xlabel('Author gender')\n",
    "plt.ylabel('Count in corpus')"
   ]
  },
  {
   "cell_type": "markdown",
   "id": "d5093508",
   "metadata": {},
   "source": [
    "### Text Length\n",
    "Data is in the column 'size', possible values are 'short', 'medium', 'long'."
   ]
  },
  {
   "cell_type": "code",
   "execution_count": 18,
   "id": "da2f3957",
   "metadata": {},
   "outputs": [
    {
     "name": "stdout",
     "output_type": "stream",
     "text": [
      "% of short texts: \t0.491\n",
      "% of medium texts: \t0.289\n",
      "% of long texts: \t0.219\n"
     ]
    },
    {
     "data": {
      "text/plain": [
       "Text(0, 0.5, 'Count in corpus')"
      ]
     },
     "execution_count": 18,
     "metadata": {},
     "output_type": "execute_result"
    },
    {
     "data": {
      "image/png": "[encoded data removed]",
      "text/plain": [
       "<Figure size 432x288 with 1 Axes>"
      ]
     },
     "metadata": {
      "needs_background": "light"
     },
     "output_type": "display_data"
    }
   ],
   "source": [
    "size = corpus['size']\n",
    "ratio_size_short = (size == 'short').sum() / size.count()\n",
    "ratio_size_med = (size == 'medium').sum() / size.count()\n",
    "ratio_size_long = (size == 'long').sum() / size.count()\n",
    "print(\n",
    "    f'% of short texts: \\t{ratio_size_short:.3f}\\n'\n",
    "    f'% of medium texts: \\t{ratio_size_med:.3f}\\n'\n",
    "    f'% of long texts: \\t{ratio_size_long:.3f}'\n",
    ")\n",
    "sns.countplot(x=size)\n",
    "plt.xlabel('Text length')\n",
    "plt.ylabel('Count in corpus')"
   ]
  },
  {
   "cell_type": "markdown",
   "id": "a496e1cc",
   "metadata": {},
   "source": [
    "### Year of first publication\n",
    "Data is in the column 'firsted-yr'. However, possible values can be single years `(yyyy)`, year spans `(yyyy-yyyy)`, the floating point number value `NaN`, or even a string like `'unknown'`. Therefore, we need to clean up a bit before we can use it. In case of year ranges, we simply use the first year."
   ]
  },
  {
   "cell_type": "code",
   "execution_count": 19,
   "id": "c7e85380",
   "metadata": {
    "raw_mimetype": "text/x-python",
    "scrolled": false
   },
   "outputs": [
    {
     "data": {
      "text/plain": [
       "<seaborn.axisgrid.FacetGrid at 0x7fbaf7d82eb0>"
      ]
     },
     "execution_count": 19,
     "metadata": {},
     "output_type": "execute_result"
    },
    {
     "data": {
      "image/png": "[encoded data removed]",
      "text/plain": [
       "<Figure size 720x360 with 1 Axes>"
      ]
     },
     "metadata": {
      "needs_background": "light"
     },
     "output_type": "display_data"
    }
   ],
   "source": [
    "pubyear = (corpus['firsted-yr']\n",
    "    .astype('|S')\n",
    "    .replace('(\\d{4})-\\d{4}', '\\1', regex=True)\n",
    "    .str.decode('utf-8'))\n",
    "pubyear = pd.to_datetime(pubyear, errors='coerce')\n",
    "\n",
    "#pubyear = pd.to_numeric(pubyear, errors='coerce').astype('Int64')\n",
    "time_range = pubyear.max().year - pubyear.min().year\n",
    "plot = sns.displot(x=pubyear, bins=time_range, height=5, aspect=16/8)\n",
    "plot.set_xticklabels(rotation=90)"
   ]
  },
  {
   "cell_type": "markdown",
   "id": "92e1b964",
   "metadata": {},
   "source": [
    "### Narrative form\n",
    "Data is in the column 'form'. Possible values include `'mixed'`, `'autodiegetic'`, `'heterodiegetic'`, `'homodiegetic'`, `'epistolary'`, `'dialogue novel'` and also `NaN`."
   ]
  },
  {
   "cell_type": "code",
   "execution_count": 20,
   "id": "e9b4efdd",
   "metadata": {},
   "outputs": [
    {
     "name": "stdout",
     "output_type": "stream",
     "text": [
      "Set of all values:  {'homodiegetic', nan, 'mixed', 'heterodiegetic', 'epistolary', 'dialogue novel', 'autodiegetic'}\n",
      "% of mixed: \t0.036\n",
      "% of autodiegetic: \t0.250\n",
      "% of heterodiegetic: \t0.348\n",
      "% of homodiegetic: \t0.036\n",
      "% of epistolary: \t0.268\n",
      "% of dialogue novel: \t0.062\n"
     ]
    },
    {
     "data": {
      "image/png": "[encoded data removed]",
      "text/plain": [
       "<Figure size 432x288 with 1 Axes>"
      ]
     },
     "metadata": {
      "needs_background": "light"
     },
     "output_type": "display_data"
    }
   ],
   "source": [
    "form = corpus['form'].astype('category')\n",
    "print('Set of all values: ', set(form.values))\n",
    "print('\\n'.join([\n",
    "    f'% of {kind}: \\t{((form==kind).sum()/form.count()):.3f}'\n",
    "    for kind in [\n",
    "        'mixed', 'autodiegetic', 'heterodiegetic', 'homodiegetic',\n",
    "        'epistolary', 'dialogue novel'\n",
    "    ]\n",
    "]))\n",
    "plot = sns.countplot(x=form)\n",
    "_ = plt.xticks(rotation=30, horizontalalignment='right')"
   ]
  },
  {
   "cell_type": "markdown",
   "id": "4612c55d",
   "metadata": {},
   "source": [
    "## BGRF Metadata from Wikibase\n",
    "Data is pulled from Wikibase. For the moment, our instance on port 53100 is used. This may change in the future, which then will not only affect the URL but also the IDs of the items and predicates. Adjust these accordingly in the [Configuration Section](#Configuration)."
   ]
  },
  {
   "cell_type": "markdown",
   "id": "082667ad",
   "metadata": {},
   "source": [
    "### Configuration"
   ]
  },
  {
   "cell_type": "code",
   "execution_count": 21,
   "id": "9f3db722",
   "metadata": {},
   "outputs": [],
   "source": [
    "# Adjust these values whenever another Wikibase instance is to be used.\n",
    "WB_URL = 'http://zora.uni-trier.de:53100'\n",
    "ITEM_IDS = {\n",
    "    'publication_date': 'P7',\n",
    "    'publication_date_str': 'P43',  # hard to use, since not normalized\n",
    "    'sex_or_gender': 'P29',         # currently no data on :53100\n",
    "    'narrative_form': 'P55',        # currently no data on :53100\n",
    "    'narrative_form_str': 'P47',\n",
    "    'page_count': 'P35',            # currently no data on :53100\n",
    "    'page_count_str': 'P45',\n",
    "    'distribution_format_str': 'P46',\n",
    "    'distribution_format': 'P38',   # currently no data on :53100\n",
    "}"
   ]
  },
  {
   "cell_type": "markdown",
   "id": "a8a9b641",
   "metadata": {},
   "source": [
    "### Data Loading"
   ]
  },
  {
   "cell_type": "markdown",
   "id": "21d85e9d",
   "metadata": {},
   "source": [
    "We use the SPARQL endpoint to query the bibliography metadata. Each metadatum gets its own query for simplicity's sake."
   ]
  },
  {
   "cell_type": "code",
   "execution_count": 22,
   "id": "cb87bd42",
   "metadata": {},
   "outputs": [],
   "source": [
    "bgrf = pd.DataFrame()\n",
    "wb_endpoint = f'{WB_URL}/proxy/wdqs/bigdata/namespace/wdq/sparql'\n",
    "\n",
    "def get_data(endpoint, query):\n",
    "    '''Given an endpoint URL and a SPARQL query, return\n",
    "    the data as JSON.\n",
    "    '''\n",
    "    user_agent = 'jupyter notebook'\n",
    "    sparql = SPARQLWrapper(endpoint, agent=user_agent)\n",
    "    sparql.setQuery(query)\n",
    "    sparql.setReturnFormat(JSON)\n",
    "    return sparql.query().convert()[\"results\"][\"bindings\"]"
   ]
  },
  {
   "cell_type": "markdown",
   "id": "18d676b1",
   "metadata": {},
   "source": [
    "This wrapper function conveniently provides the data as python dictionaries.\n",
    "For example, to get all the data values for the property `narrative_form_str`,\n",
    "we can use the following:"
   ]
  },
  {
   "cell_type": "code",
   "execution_count": 23,
   "id": "488c6d5f",
   "metadata": {
    "scrolled": true
   },
   "outputs": [
    {
     "name": "stdout",
     "output_type": "stream",
     "text": [
      "Number of distinct values: 38\n",
      "Each entry has the following form (NPI): {'form': {'xml:lang': 'fr', 'type': 'literal', 'value': 'in—18'}}\n"
     ]
    }
   ],
   "source": [
    "ex_query = 'SELECT DISTINCT ?form WHERE { ?item wdt:P46 ?form. }'\n",
    "results = get_data(wb_endpoint, ex_query)\n",
    "print('Number of distinct values:', len(results))\n",
    "print('Each entry has the following form (NPI):', results[0])"
   ]
  },
  {
   "cell_type": "markdown",
   "id": "1db5c28c",
   "metadata": {},
   "source": [
    "The key `'form'` corresponds to us choosing `?form` as the output variable in our SPARQL query."
   ]
  },
  {
   "cell_type": "markdown",
   "id": "b820052a",
   "metadata": {},
   "source": [
    "### Author Gender (BGRF)"
   ]
  },
  {
   "cell_type": "code",
   "execution_count": 24,
   "id": "3a4608f2",
   "metadata": {},
   "outputs": [],
   "source": [
    "# Author gender\n",
    "# NOTE: currently no data in Wikibase at :44100.\n",
    "query = ''.join([\n",
    "    'SELECT ?item ?gender ',\n",
    "    'WHERE { ?item wdt:',\n",
    "    ITEM_IDS['sex_or_gender'],\n",
    "    ' ?gender. }'\n",
    "])\n",
    "gender = get_data(wb_endpoint, query)"
   ]
  },
  {
   "cell_type": "markdown",
   "id": "f64cb88f",
   "metadata": {},
   "source": [
    "### Text Length (BGRF)\n",
    "\n",
    "For the bibliography we do not have e.g. the word count. We do however have both a page count (as custom string, in 'page_count_str'/P45) and information about the page format (in 'distribution_format_str'/P46). We can use this to estimate a text length.\n",
    "\n",
    "Interestingly though, historically formats vary substantially (see [Wikipedia](https://fr.wikipedia.org/wiki/Reliure#Formats_des_feuilles_et_des_reliures) and [other source](http://home.page.ch/pub/reliurebcapt@vtx.ch/format.htm)). "
   ]
  },
  {
   "cell_type": "code",
   "execution_count": 54,
   "id": "1b59ece8",
   "metadata": {},
   "outputs": [
    {
     "name": "stdout",
     "output_type": "stream",
     "text": [
      "[['0.50', '0.50', '0.44', '0.47', '1.20', '0.89'],\n",
      " ['0.50', '0.50', '0.51', '0.43', '1.16', '0.89'],\n",
      " ['0.48', '0.49', '0.50', '0.44', '1.21', '0.89']]\n"
     ]
    }
   ],
   "source": [
    "# Formats are, in order, 'in-plano', 'in-folio', 'in-4', 'in-8', 'in-12', 'in-16', 'in-18'.\n",
    "# Taken from https://fr.wikipedia.org/wiki/Reliure#Formats_des_feuilles_et_des_reliures and\n",
    "# http://home.page.ch/pub/reliurebcapt@vtx.ch/format.htm\n",
    "# Note, that both tables are NOT in complete agreement with each other.\n",
    "formats = {\n",
    "    'colombier': [(90, 63), (63,45), (45,31.5), (30,21), (21, 14), (22.5,15.7), (21,15)],\n",
    "    'jesus': [(70,54), (54,35), (35,27), (27,18), (23, 9), (17.5,13.7), (18.3, 11.6)],\n",
    "    'raisin': [(65,50), (49,32), (32,24), (24,16), (21, 8), (16.2,12.5), (16.6, 10.8)],\n",
    "}\n",
    "areas = {\n",
    "    key: [w*h for (w, h) in value]\n",
    "    for key, value in formats.items()\n",
    "}\n",
    "# Ratio of one format and the next smaller one, for each convention. \n",
    "ratios = {\n",
    "    key: [f'{a/b:.2f}' for a, b in zip(values[1:], values[:-1])]\n",
    "    for key, values in areas.items()\n",
    "}\n",
    "from pprint import pprint\n",
    "pprint(list(ratios.values()))"
   ]
  },
  {
   "cell_type": "markdown",
   "id": "87153454",
   "metadata": {},
   "source": [
    "As we can see, the ratio from one format to another is, if not identical, still pretty consistent for each column (as it should be, considering how they are derived). If we assume that the entries in the bibliography are at least internally consistent, we can use _any_ of the conventions and multiply by the number of pages to get a \"combined page area\" for each text. This can of course not simply be mapped to the actual text length. But as a heuristic, maybe we can assume that the combined area is roughly proportional to the text length. If this is the case, we can use this value to categorize texts into 'short', 'medium' and 'long' (although these labels are independent of, and can differ from, the ones used for the corpus, which directly use word count)."
   ]
  },
  {
   "cell_type": "markdown",
   "id": "ace0edc7",
   "metadata": {},
   "source": [
    "First, let's query both `page_count_string` and `distribution_format_string`."
   ]
  },
  {
   "cell_type": "code",
   "execution_count": 42,
   "id": "9f2c7a41",
   "metadata": {},
   "outputs": [
    {
     "name": "stdout",
     "output_type": "stream",
     "text": [
      "SELECT ?item ?page_count ?page_format WHERE { ?item wdt:P45 ?page_count; wdt:P46 ?page_format. }\n",
      "{'item': {'type': 'uri', 'value': 'http://zora.uni-trier.de:53000/entity/Q27'},\n",
      " 'page_count': {'type': 'literal', 'value': 'xii + 142p.', 'xml:lang': 'fr'},\n",
      " 'page_format': {'type': 'literal', 'value': 'in—18', 'xml:lang': 'fr'}}\n"
     ]
    }
   ],
   "source": [
    "# Page count\n",
    "query = ''.join([\n",
    "    'SELECT ?item ?page_count ?page_format ',\n",
    "    'WHERE { ?item wdt:',\n",
    "    ITEM_IDS['page_count_str'],\n",
    "    ' ?page_count;',\n",
    "    ' wdt:',\n",
    "    ITEM_IDS['distribution_format_str'],\n",
    "    ' ?page_format.',\n",
    "    ' }'\n",
    "])\n",
    "print(query)\n",
    "results = get_data(wb_endpoint, query)\n",
    "pprint(results[0])"
   ]
  },
  {
   "cell_type": "markdown",
   "id": "053c8051",
   "metadata": {},
   "source": [
    "Unsurprisingly, both `page_count_string` and `distribution_format_string` need some cleaning up and normalization. To keep this notebook tidy and allow for both easier re-use and easier testing, the corresponding parsing functions have been outsourced into their own `utils.py` module in the same folder as this notebook."
   ]
  },
  {
   "cell_type": "code",
   "execution_count": 92,
   "id": "ea128ef3",
   "metadata": {},
   "outputs": [
    {
     "name": "stdout",
     "output_type": "stream",
     "text": [
      "\"page_count\" column:\n",
      " http://zora.uni-trier.de:53000/entity/Q27    142\n",
      "http://zora.uni-trier.de:53000/entity/Q28    136\n",
      "Name: page_count, dtype: Int64\n",
      "\"dist_format\" column:\n",
      " http://zora.uni-trier.de:53000/entity/Q27    in-18\n",
      "http://zora.uni-trier.de:53000/entity/Q28    in-12\n",
      "Name: dist_format, dtype: object\n"
     ]
    },
    {
     "data": {
      "image/png": "[encoded data removed]",
      "text/plain": [
       "<Figure size 432x288 with 1 Axes>"
      ]
     },
     "metadata": {
      "needs_background": "light"
     },
     "output_type": "display_data"
    },
    {
     "data": {
      "image/png": "[encoded data removed]",
      "text/plain": [
       "<Figure size 360x360 with 1 Axes>"
      ]
     },
     "metadata": {
      "needs_background": "light"
     },
     "output_type": "display_data"
    }
   ],
   "source": [
    "# Have a look at ./utils.py if you are interested in the implementation details.\n",
    "from utils import parse_distribution_format\n",
    "from utils import parse_page_count\n",
    "\n",
    "# Note: parse_page_count() ignores page numbers given in roman numerals by default.\n",
    "# To include them in the sum, call parse_page_count() with `count_preface=True`.\n",
    "# For more info about these functions use help():\n",
    "#help(parse_page_count)\n",
    "#help(parse_distribution_count)\n",
    "# Adjust as needed:\n",
    "INCLUDE_PREFACE = False\n",
    "\n",
    "bgrf['page_count'] = pd.Series(\n",
    "    data=[sum(parse_page_count(entry['page_count']['value'], count_preface=INCLUDE_PREFACE))\n",
    "         for entry in results],\n",
    "    index=[entry['item']['value'] for entry in results],\n",
    "    dtype='Int64'\n",
    ")\n",
    "bgrf['dist_format'] = pd.Series(\n",
    "    data=[parse_distribution_format(entry['page_format']['value'])\n",
    "         for entry in results],\n",
    "    index=[entry['item']['value'] for entry in results],\n",
    ")\n",
    "print('\"page_count\" column:\\n', bgrf['page_count'].head(2))\n",
    "print('\"dist_format\" column:\\n', bgrf['dist_format'].head(2))\n",
    "sns.countplot(x=bgrf['dist_format'], order=['in-plano', 'in-2', 'in-4', 'in-8', 'in-12', 'in-16', 'in-18'])\n",
    "plt.show()\n",
    "sns.displot(x=bgrf['page_count'])\n",
    "plt.show()"
   ]
  },
  {
   "cell_type": "markdown",
   "id": "ec137765",
   "metadata": {},
   "source": [
    "In order to estimate the cummulative page area of each text, we need to choose any of the corventions listed at the start of this section."
   ]
  },
  {
   "cell_type": "code",
   "execution_count": 113,
   "id": "e3d1567a",
   "metadata": {},
   "outputs": [
    {
     "name": "stdout",
     "output_type": "stream",
     "text": [
      "{'in-12': 207,\n",
      " 'in-16': 239.75,\n",
      " 'in-18': 212.28,\n",
      " 'in-2': 1890,\n",
      " 'in-4': 945,\n",
      " 'in-8': 486,\n",
      " 'in-plano': 3780}\n"
     ]
    }
   ],
   "source": [
    "page_areas = {\n",
    "    format: area\n",
    "    for format, area\n",
    "    in zip(['in-plano', 'in-2', 'in-4', 'in-8', 'in-12', 'in-16', 'in-18'], areas['jesus'])\n",
    "}\n",
    "pprint(page_areas)\n",
    "bgrf['page_area'] = bgrf['dist_format'].apply(lambda f: page_areas[f])"
   ]
  },
  {
   "cell_type": "code",
   "execution_count": 120,
   "id": "2fe5b9df",
   "metadata": {},
   "outputs": [
    {
     "data": {
      "image/png": "[encoded data removed]",
      "text/plain": [
       "<Figure size 360x360 with 1 Axes>"
      ]
     },
     "metadata": {
      "needs_background": "light"
     },
     "output_type": "display_data"
    },
    {
     "data": {
      "image/png": "[encoded data removed]",
      "text/plain": [
       "<Figure size 432x288 with 1 Axes>"
      ]
     },
     "metadata": {
      "needs_background": "light"
     },
     "output_type": "display_data"
    },
    {
     "name": "stdout",
     "output_type": "stream",
     "text": [
      "The only work categorized as \"long\" is actually a collection of novels:\n",
      " http://zora.uni-trier.de:53000/entity/Q135    long\n",
      "Name: estimated_length, dtype: category\n",
      "Categories (3, object): ['short' < 'medium' < 'long']\n"
     ]
    }
   ],
   "source": [
    "# Calculate an estimated 'cummulative page area' for each work.\n",
    "bgrf['cumm_area'] = bgrf['page_area'] * bgrf['page_count']\n",
    "sns.displot(x=bgrf['cumm_area'])\n",
    "plt.show()\n",
    "bgrf['estimated_length'] = pd.cut(bgrf['cumm_area'], bins=3, labels=['short', 'medium', 'long'])\n",
    "sns.countplot(x=bgrf['estimated_length'])\n",
    "plt.show()\n",
    "\n",
    "# There is only one work described as 'long' by this procedure:\n",
    "only_long = bgrf['estimated_length'][bgrf['estimated_length'] == 'long']\n",
    "print('The only work categorized as \"long\" is actually a collection of novels:\\n', only_long)"
   ]
  },
  {
   "cell_type": "markdown",
   "id": "1972e449",
   "metadata": {},
   "source": [
    "The only work which is categorized as long by this procedure is actually a collection of novels. This probably means that our binning is rather meaningless. Domain-specific knowledge would be necessary to choose adequate limits for the three bins."
   ]
  },
  {
   "cell_type": "markdown",
   "id": "1a778c4d",
   "metadata": {},
   "source": [
    "### Publication Date (BGRF)"
   ]
  },
  {
   "cell_type": "code",
   "execution_count": 28,
   "id": "9702b44d",
   "metadata": {},
   "outputs": [
    {
     "name": "stdout",
     "output_type": "stream",
     "text": [
      "The new data Series looks like this:\n",
      " http://zora.uni-trier.de:53000/entity/Q27   1800-01-01\n",
      "http://zora.uni-trier.de:53000/entity/Q28   1751-01-01\n",
      "http://zora.uni-trier.de:53000/entity/Q30   1752-01-01\n",
      "Name: pubyear, dtype: datetime64[ns]\n"
     ]
    },
    {
     "data": {
      "text/plain": [
       "<seaborn.axisgrid.FacetGrid at 0x7fbaf79fb6d0>"
      ]
     },
     "execution_count": 28,
     "metadata": {},
     "output_type": "execute_result"
    },
    {
     "data": {
      "image/png": "[encoded data removed]",
      "text/plain": [
       "<Figure size 720x360 with 1 Axes>"
      ]
     },
     "metadata": {
      "needs_background": "light"
     },
     "output_type": "display_data"
    }
   ],
   "source": [
    "# Publication date\n",
    "import datetime as dt\n",
    "\n",
    "query = ''.join([\n",
    "    'SELECT ?item ?pubdate ',\n",
    "    'WHERE { ?item wdt:',\n",
    "    ITEM_IDS['publication_date'],\n",
    "    ' ?pubdate. }'\n",
    "])\n",
    "pubdate = get_data(wb_endpoint, query)\n",
    "\n",
    "bgrf['pubyear'] = pd.Series(\n",
    "    data=[dt.date.fromisoformat(entry['pubdate']['value'].split('T')[0]) for entry in pubdate],\n",
    "    index=[entry['item']['value'] for entry in pubdate],\n",
    "    dtype='datetime64[ns]'\n",
    ")\n",
    "\n",
    "print('The new data Series looks like this:\\n', bgrf['pubyear'].head(3))\n",
    "\n",
    "year_range = bgrf['pubyear'].max().year - bgrf['pubyear'].min().year\n",
    "plot = sns.displot(x=bgrf['pubyear'], bins=time_range, height=5, aspect=16/8)\n",
    "plot.set_xticklabels(rotation=90)"
   ]
  },
  {
   "cell_type": "markdown",
   "id": "7e7d80d3",
   "metadata": {},
   "source": [
    "### Narrative Form (BGRF)"
   ]
  },
  {
   "cell_type": "code",
   "execution_count": 29,
   "id": "7bf9ccb3",
   "metadata": {},
   "outputs": [
    {
     "data": {
      "image/png": "[encoded data removed]",
      "text/plain": [
       "<Figure size 432x288 with 1 Axes>"
      ]
     },
     "metadata": {
      "needs_background": "light"
     },
     "output_type": "display_data"
    }
   ],
   "source": [
    "# Narrative form\n",
    "query = ''.join([\n",
    "    'SELECT ?item ?form ',\n",
    "    'WHERE { ?item wdt:',\n",
    "    ITEM_IDS['narrative_form_str'],\n",
    "    ' ?form. }'\n",
    "])\n",
    "form = get_data(wb_endpoint, query)\n",
    "form = pd.Series(\n",
    "    data=[entry['form']['value'] for entry in form],\n",
    "    index=[entry['item']['value'] for entry in form],\n",
    "    dtype='category'\n",
    ")\n",
    "# This is brutish, but I do not want to write some elaborate\n",
    "# regexes for something which is essentially still undecided as far\n",
    "# as the adequate modelling goes.\n",
    "mapping = {\n",
    "    'Dialogues': 'dialogue novel',\n",
    "    'Deux récits 1re personne': 'undecided',\n",
    "    'Ire personne virant à la 3e, avec dialogues': 'undecided',\n",
    "    'Ire personne (mémoires découpés en lettres)': 'undecided',\n",
    "    'Saillard Tchemerzine 3e personne': 'heterodiegetic',\n",
    "    '3e personne, avec récit intercalé 1re personne': 'undecided',\n",
    "    '1re personne, avec récits intercalés 1re personne': 'autodiegetic',\n",
    "    '3e personne, avec dialogues, récits intercalés 1re personne, intervention du narrateur': 'undecided',\n",
    "    '3e partie: Relation du voyage d’un sublunaire; 1re personne avec des récits d’autres voyageurs': 'undecided',\n",
    "    '1re personne (mémoires)': 'autodiegetic',\n",
    "    '1re personne (mémoires), avec récit intercalé 1re personne': 'autodiegetic',\n",
    "    '1re personne, songe': 'autodiegetic',\n",
    "    'Lettres, avec récits intercalés 1re personne': 'epistolary',\n",
    "    'Lettres': 'epistolary',\n",
    "    'Saint-Fargeau Lettres': 'epistolary',\n",
    "    '3e personne, avec récits intercalés 1re personne et lettres': 'mixed',\n",
    "    'Dialogue, avec récits racontés par les personnages': 'dialogue novel',\n",
    "    '3e personne': 'heterodiegetic',\n",
    "    '3e personne, avec récit de Jezennemours à la 1re personne': 'homodiegetic',\n",
    "    '3e personne avec des observations 1re personne': 'homodiegetic',\n",
    "    'Lettres, interrompues par un récit (I, 83 - 160)': 'mixed',\n",
    "    '1re personne': 'autodiegetic',\n",
    "    'Lettres, avec deux histoires intercalées': 'mixed',\n",
    "    'Cadre 1re personne avec récit 1re personne': 'autodiegetic',\n",
    "    '3e personne, avec contes intercalés 3e personne (I, 43, Le plaisir, conte moral; II, 10, Aventure du pèlerin)': 'homodiegetic',\n",
    "    '3e personne, interrompu par des conversations': 'homodiegetic',\n",
    "    'Ire personne': 'autodiegetic',\n",
    "    '3e personne, avec récits intercalés 1re personne': 'homodiegetic',\n",
    "}\n",
    "#print('\\n'.join([i for i in set(bgrf['form'].values) ]))\n",
    "bgrf['form'] = form.replace(mapping).astype('category')\n",
    "plot = sns.countplot(x=bgrf['form'])\n",
    "_ = plt.xticks(rotation=30, horizontalalignment='right')"
   ]
  },
  {
   "cell_type": "markdown",
   "id": "098f839a",
   "metadata": {},
   "source": [
    "## Comparison"
   ]
  },
  {
   "cell_type": "markdown",
   "id": "db0a920e",
   "metadata": {},
   "source": [
    "### Publication Date (Corpus vs BGRF)"
   ]
  },
  {
   "cell_type": "code",
   "execution_count": 30,
   "id": "a8e90422",
   "metadata": {},
   "outputs": [
    {
     "name": "stdout",
     "output_type": "stream",
     "text": [
      "The data in \"wide form\"\n",
      "             freq_corpus  freq_bgrf  year\n",
      "1730-01-01          NaN        NaN  1730\n",
      "1731-01-01     0.009174        NaN  1731\n",
      "1732-01-01          NaN        NaN  1732\n",
      "1733-01-01          NaN        NaN  1733 \n",
      "\n",
      "The data in \"long form\"\n",
      "    year       origin  rel_freq\n",
      "0  1730  freq_corpus       NaN\n",
      "1  1731  freq_corpus  0.009174\n",
      "2  1732  freq_corpus       NaN\n",
      "3  1733  freq_corpus       NaN\n"
     ]
    }
   ],
   "source": [
    "# Publication year of corpus texts:\n",
    "year_corpus = (corpus['firsted-yr']\n",
    "    .astype('|S')\n",
    "    .replace('(\\d{4})-\\d{4}', '\\1', regex=True)\n",
    "    .str.decode('utf-8'))\n",
    "year_corpus = pd.to_datetime(year_corpus, errors='coerce')\n",
    "\n",
    "# Publication year of BGRF items:\n",
    "year_bgrf = bgrf['pubyear']\n",
    "\n",
    "# Create a date index which includes the whole data range\n",
    "# so that we can fill in missing data points.\n",
    "idx = pd.date_range(start='1730', end='1800', freq='YS', closed=None)\n",
    "\n",
    "# In previous visualizations we have used absolute value counts.\n",
    "# For comparison we obviously need to use relative frequencies instead.\n",
    "df = pd.DataFrame(index=idx)\n",
    "df['freq_corpus'] = year_corpus.value_counts(normalize=True)\n",
    "df['freq_bgrf'] = year_bgrf.value_counts(normalize=True)\n",
    "df['year'] = df.index.year\n",
    "print('The data in \"wide form\"\\n', df.head(4), '\\n')\n",
    "\n",
    "# For the visualization we need the data in \"long form\", i.e. all the\n",
    "# relative frequencies are in one single column, with another column \n",
    "# specifying whether it stems from the corpus or the bibliography.\n",
    "long = pd.melt(\n",
    "    df, id_vars=['year'], value_vars=['freq_corpus', 'freq_bgrf'],\n",
    "    var_name='origin', value_name='rel_freq')\n",
    "\n",
    "print('The data in \"long form\"\\n', long.head(4))"
   ]
  },
  {
   "cell_type": "code",
   "execution_count": 31,
   "id": "a34cb012",
   "metadata": {
    "scrolled": true
   },
   "outputs": [
    {
     "data": {
      "image/png": "[encoded data removed]",
      "text/plain": [
       "<Figure size 1080x360 with 1 Axes>"
      ]
     },
     "metadata": {
      "needs_background": "light"
     },
     "output_type": "display_data"
    }
   ],
   "source": [
    "sns.catplot(x='year', y='rel_freq', hue='origin', kind='bar', data=long, height=5, aspect=3, legend_out=False)\n",
    "plt.xlabel('Publication Year')\n",
    "plt.ylabel('Share of all texts in collection')\n",
    "_ = plt.xticks(rotation=90)"
   ]
  },
  {
   "cell_type": "markdown",
   "id": "2ec196e5",
   "metadata": {},
   "source": [
    "The outlier with publication year 1731 makes the above chart a bit harder to read than necessary. So let's create the same graph with data starting at 1751."
   ]
  },
  {
   "cell_type": "code",
   "execution_count": 32,
   "id": "291de1cd",
   "metadata": {},
   "outputs": [
    {
     "data": {
      "image/png": "[encoded data removed]",
      "text/plain": [
       "<Figure size 1080x360 with 1 Axes>"
      ]
     },
     "metadata": {
      "needs_background": "light"
     },
     "output_type": "display_data"
    }
   ],
   "source": [
    "sns.catplot(x='year', y='rel_freq', hue='origin', kind='bar', data=long[long['year'] > 1750], height=5, aspect=3,\n",
    "           legend_out=False)\n",
    "plt.xlabel('Publication Year')\n",
    "plt.ylabel('Share of all texts\\nin resp. collection')\n",
    "_ = plt.xticks(rotation=90)"
   ]
  }
 ],
 "metadata": {
  "kernelspec": {
   "display_name": "Python 3 (ipykernel)",
   "language": "python",
   "name": "python3"
  },
  "language_info": {
   "codemirror_mode": {
    "name": "ipython",
    "version": 3
   },
   "file_extension": ".py",
   "mimetype": "text/x-python",
   "name": "python",
   "nbconvert_exporter": "python",
   "pygments_lexer": "ipython3",
   "version": "3.9.2"
  }
 },
 "nbformat": 4,
 "nbformat_minor": 5
}
